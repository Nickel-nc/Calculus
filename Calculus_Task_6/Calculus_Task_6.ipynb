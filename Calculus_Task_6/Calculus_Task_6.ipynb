{
 "cells": [
  {
   "cell_type": "markdown",
   "metadata": {},
   "source": [
    "# ВВЕДЕНИЕ В МАТЕМАТИЧЕСКИЙ АНАЛИЗ\n",
    "****************"
   ]
  },
  {
   "cell_type": "code",
   "execution_count": 69,
   "metadata": {},
   "outputs": [],
   "source": [
    "%matplotlib inline\n",
    "import numpy as np\n",
    "from math import sin\n",
    "import matplotlib.pyplot as plt\n",
    "from tqdm import tqdm\n",
    "from math import sin, cos, tan, exp, e, log, sqrt, pi\n",
    "import math"
   ]
  },
  {
   "cell_type": "markdown",
   "metadata": {},
   "source": [
    "### Тема “Понятие о производной”"
   ]
  },
  {
   "cell_type": "markdown",
   "metadata": {},
   "source": [
    "#### 1.\tНайти производную выражения:"
   ]
  },
  {
   "cell_type": "markdown",
   "metadata": {},
   "source": [
    "a.\n",
    "$\\sin x \\cdot \\cos x$"
   ]
  },
  {
   "cell_type": "markdown",
   "metadata": {},
   "source": [
    "- $(\\sin x \\cdot \\cos x)' = (\\sin x)' \\cdot \\cos x + \\sin x \\cdot (\\cos x)' = cos^2 x -\\sin^2 x$"
   ]
  },
  {
   "cell_type": "markdown",
   "metadata": {},
   "source": [
    "b.\n",
    "$\\ln (2x+1)^3$"
   ]
  },
  {
   "cell_type": "markdown",
   "metadata": {},
   "source": [
    "- $(\\ln(2x+1)^3)' = 3 \\cdot \\ln(2x+1)^2 \\cdot \\frac{1}{2x+1} \\cdot 2$"
   ]
  },
  {
   "cell_type": "markdown",
   "metadata": {},
   "source": [
    "c. \n",
    "$\\sqrt{\\sin^2(\\ln(x^3))}$"
   ]
  },
  {
   "cell_type": "markdown",
   "metadata": {},
   "source": [
    "- $\\left(\\sqrt{\\sin ^2 (\\ln(x^3))}\\right)' = \\left(\\left(\\sin ^2 (\\ln(x^3))\\right)^{\\frac{1}{2}}\\right)'\n",
    "= \n",
    "\\frac{1}{2\\cdot \\sqrt{\\sin^2(\\ln(x^3)))}}\\cdot 2 \\sin(\\ln(x^3)) \\cdot \\cos(\\ln(x^3)) \\cdot \\frac{1}{x^3} \\cdot 3x^2$"
   ]
  },
  {
   "cell_type": "markdown",
   "metadata": {},
   "source": [
    "d.\n",
    "$\\frac{x^4}{\\ln(x)}$"
   ]
  },
  {
   "cell_type": "markdown",
   "metadata": {},
   "source": [
    "- $\\left(\\frac{x^4}{\\ln(x)}\\right)'\n",
    "=\n",
    "\\frac{(x^4)' \\cdot \\ln(x) - x^4 \\cdot (\\ln(x))'}{(\\ln(x))^2}\n",
    "=\n",
    "\\frac{4x^3 \\cdot \\ln(x) - x^4 \\cdot \\frac{1}{x}}{(\\ln(x))^2}\n",
    "=\n",
    "\\frac{4x^3 \\cdot \\ln(x) - x^3 }{(\\ln(x))^2}$"
   ]
  },
  {
   "cell_type": "markdown",
   "metadata": {},
   "source": [
    "#### 2. Найти выражение производной функции и её значение в точке:\n",
    "\n",
    "$f(x) = \\cos(x^2+3x), x_0 = \\sqrt{\\pi} $"
   ]
  },
  {
   "cell_type": "markdown",
   "metadata": {},
   "source": [
    "$f(x) =\\cos(x^2+3x)' = -\\sin(x^2+3x) \\cdot (2x + 3)$\n",
    "\n",
    "$f'(\\sqrt{\\pi}) = -\\sin(\\sqrt{\\pi}^2+3\\sqrt{\\pi}) \\cdot (2\\sqrt{\\pi} + 3)  \\vert_{x=\\sqrt{\\pi}}  = -5.38$"
   ]
  },
  {
   "cell_type": "code",
   "execution_count": 27,
   "metadata": {},
   "outputs": [
    {
     "data": {
      "text/plain": [
       "-5.383302410890619"
      ]
     },
     "execution_count": 27,
     "metadata": {},
     "output_type": "execute_result"
    }
   ],
   "source": [
    "-sin(pi+3*sqrt(pi))*(2*sqrt(pi)+3)"
   ]
  },
  {
   "cell_type": "markdown",
   "metadata": {},
   "source": [
    "#### 3. Найти значение производной функции в точке:\n",
    "\n",
    "$f(x) = \\frac{x^3-x^2-x-1}{1+2x+3x^2-4x^3}, x_0 = 0$"
   ]
  },
  {
   "cell_type": "markdown",
   "metadata": {},
   "source": [
    "$f(x)' = \\frac{(x^3-x^2-x-1)' (1+2x+3x^2-4x^3) - (1+2x+3x^2-4x^3)' (x^3-x^2-x-1)}{(1+2x+3x^2-4x^3)^2}, x_0 = 0$"
   ]
  },
  {
   "cell_type": "markdown",
   "metadata": {},
   "source": [
    "$f(x)' = \\frac{(x^3-x^2-x-1)' (1+2x+3x^2-4x^3) - (1+2x+3x^2-4x^3)' (x^3-x^2-x-1)}{(1+2x+3x^2-4x^3)^2}\n",
    "=\n",
    "\\frac{(3x^2-2x-1)(1+2x+3x^2-4x^3)-(2+6x-12x^2)(x^3-x^2-x-1)}{(1+2x+3x^2-4x^3)^2}\n",
    "=\n",
    "\\frac{-1 + 2}{1} = 1$"
   ]
  },
  {
   "cell_type": "markdown",
   "metadata": {},
   "source": [
    "#### 4. Найти угол наклона касательной к графику функции в точке:\n",
    "\n",
    "$f(x)=\\sqrt{3x} \\cdot \\ln x, x_0=1$"
   ]
  },
  {
   "cell_type": "markdown",
   "metadata": {},
   "source": [
    "$f(x)'=(\\sqrt{3x})' \\cdot \\ln x + (\\ln x)' \\sqrt{3x} \n",
    "=\n",
    "\\frac{1}{2\\sqrt{3x}} \\cdot 3 \\ln x + \\frac{1}{x} \\cdot \\sqrt{3x}$\n",
    "\n",
    "$f'(1) = \n",
    "\\frac{1}{2\\sqrt{3}} \\cdot 3 \\ln (1) + 1\\cdot \\sqrt{3}= \\frac{1}{2}$"
   ]
  },
  {
   "cell_type": "code",
   "execution_count": 3,
   "metadata": {
    "scrolled": true
   },
   "outputs": [
    {
     "data": {
      "text/plain": [
       "0.5"
      ]
     },
     "execution_count": 3,
     "metadata": {},
     "output_type": "execute_result"
    }
   ],
   "source": [
    "(1/(2*sqrt(3)))*(3*log(1)+1/1*sqrt(3))"
   ]
  },
  {
   "cell_type": "code",
   "execution_count": 68,
   "metadata": {},
   "outputs": [
    {
     "data": {
      "text/plain": [
       "26.57"
      ]
     },
     "execution_count": 68,
     "metadata": {},
     "output_type": "execute_result"
    }
   ],
   "source": [
    "round(math.degrees(math.atan(1/2)),2)"
   ]
  },
  {
   "cell_type": "markdown",
   "metadata": {},
   "source": [
    "`Ответ:` угол a = 26.57$^{\\circ}$"
   ]
  },
  {
   "cell_type": "code",
   "execution_count": 71,
   "metadata": {},
   "outputs": [
    {
     "data": {
      "image/png": "[encoded data removed]",
      "text/plain": [
       "<Figure size 1152x288 with 1 Axes>"
      ]
     },
     "metadata": {
      "needs_background": "light"
     },
     "output_type": "display_data"
    }
   ],
   "source": [
    "x = np.linspace(1,10, 50)\n",
    "y = []\n",
    "y = ((1/(2*np.sqrt(x)))*(3*np.log(x)+1/x*np.sqrt(x)))\n",
    "plt.figure(figsize=(16,4))\n",
    "plt.plot(x,y)\n",
    "plt.axes().set_aspect(1)\n",
    "plt.show()"
   ]
  },
  {
   "cell_type": "code",
   "execution_count": null,
   "metadata": {},
   "outputs": [],
   "source": []
  }
 ],
 "metadata": {
  "kernelspec": {
   "display_name": "Python 3",
   "language": "python",
   "name": "python3"
  },
  "language_info": {
   "codemirror_mode": {
    "name": "ipython",
    "version": 3
   },
   "file_extension": ".py",
   "mimetype": "text/x-python",
   "name": "python",
   "nbconvert_exporter": "python",
   "pygments_lexer": "ipython3",
   "version": "3.7.3"
  }
 },
 "nbformat": 4,
 "nbformat_minor": 2
}
