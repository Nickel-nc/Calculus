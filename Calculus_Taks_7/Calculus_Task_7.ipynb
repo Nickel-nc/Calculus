{
 "cells": [
  {
   "cell_type": "markdown",
   "metadata": {},
   "source": [
    "## ВВЕДЕНИЕ В МАТЕМАТИЧЕСКИЙ АНАЛИЗ\n",
    "****************"
   ]
  },
  {
   "cell_type": "markdown",
   "metadata": {},
   "source": [
    "### Тема “Производные функций одной переменной”"
   ]
  },
  {
   "cell_type": "code",
   "execution_count": 27,
   "metadata": {},
   "outputs": [],
   "source": [
    "%matplotlib inline\n",
    "import numpy as np\n",
    "from math import sin\n",
    "import matplotlib.pyplot as plt\n",
    "from tqdm import tqdm\n",
    "from math import asin,sin, cos, tan, exp, e, log, sqrt, pi\n",
    "import math"
   ]
  },
  {
   "cell_type": "markdown",
   "metadata": {},
   "source": [
    "#### Найти производную функции:\n",
    "1. $y = \\frac{1}{x}+\\frac{2}{x^2}-\\frac{5}{x^3}+\\sqrt{x}-\\sqrt[3]{x} + \\frac{3}{\\sqrt{x}}$"
   ]
  },
  {
   "cell_type": "markdown",
   "metadata": {},
   "source": [
    "$y' = -\\frac{1}{x^2}-\\frac{4}{x^3}+\\frac{15}{x^4}+ \\frac{1}{2\\sqrt{x}} -\\frac{1}{3\\sqrt[3]{x^2}}-\\frac{3}{2\\sqrt{x^3}}$"
   ]
  },
  {
   "cell_type": "markdown",
   "metadata": {},
   "source": [
    "2. $y = x \\cdot \\sqrt{1+x^2}$ "
   ]
  },
  {
   "cell_type": "markdown",
   "metadata": {},
   "source": [
    "$y' = x' \\cdot \\sqrt{1+x^2} + x \\cdot (\\sqrt{1+x^2})'= 1 \\cdot \\sqrt{1+x^2} + x \\cdot \\frac{2x}{2\\sqrt{1+x^2}}\n",
    "=\\sqrt{1+x^2} + \\frac{x^2}{\\sqrt{1+x^2}}$"
   ]
  },
  {
   "cell_type": "markdown",
   "metadata": {},
   "source": [
    "3. $y=\\frac{2x}{1-x^2}$"
   ]
  },
  {
   "cell_type": "markdown",
   "metadata": {},
   "source": [
    "$y' = \\frac{(2x)'\\cdot (1-x^2) - (1-x^2)' \\cdot 2x}{(1-x^2)^2} = \\frac{2(1-x^2)- 2x(-2x)}{(1-x^2)^2}=\n",
    "\\frac{2-2x^2+4x^2}{1-2x^2+x^4}= \\frac{2+2x^2}{(1-x^2)^2}$"
   ]
  },
  {
   "cell_type": "markdown",
   "metadata": {},
   "source": [
    "4. $y=\\sqrt{x+\\sqrt{x+\\sqrt{x}}}$"
   ]
  },
  {
   "cell_type": "markdown",
   "metadata": {},
   "source": [
    "$y' = \\frac{1}{2}(x+(x+x^{\\frac{1}{2}})^{\\frac{1}{2}})^{\\frac{1}{2}-1} \\cdot \\left((x+x^{\\frac{1}{2}})^{\\frac{1}{2}} \\right)'\n",
    "=\n",
    "\\frac{1}{2\\sqrt{x+\\sqrt{x+\\sqrt{x}}}}\\cdot \\frac{1}{2\\sqrt{x+\\sqrt{x}}}\\cdot \\frac{1}{2\\sqrt{x}}\n",
    "=\n",
    "\\frac{1}{8\\sqrt{x+\\sqrt{x+\\sqrt{x}}}\\sqrt{x+\\sqrt{x}}\\sqrt{x}}$"
   ]
  },
  {
   "cell_type": "markdown",
   "metadata": {},
   "source": [
    "#### Найти производную функции с помощью логарифмирования:"
   ]
  },
  {
   "cell_type": "markdown",
   "metadata": {},
   "source": [
    "5. $y=(x^2+2)^5 \\cdot (3x-x^3)^3$"
   ]
  },
  {
   "cell_type": "markdown",
   "metadata": {},
   "source": [
    "$y'=f(x)\\cdot(\\ln[f(x)])'\n",
    "=\n",
    "(x^2+2)^5 \\cdot (3x-x^3)^3 \\cdot \\left(\\frac{5\\cdot 2x}{(x^2+2)} + \\frac{3(3-3x^2)}{(3x-x^3)} \\right)\n",
    "=(x^2+2)^5 \\cdot (3x-x^3)^3 \\cdot \\left(\\frac{10x}{(x^2+2)} + \\frac{9-9x^2)}{(3x-x^3)} \\right)$"
   ]
  },
  {
   "cell_type": "markdown",
   "metadata": {},
   "source": [
    "6. $y=\\sqrt[x]{x}$"
   ]
  },
  {
   "cell_type": "markdown",
   "metadata": {},
   "source": [
    "$y' = (x^{\\frac{1}{x}})'\n",
    "=\n",
    "\\left(e^{\\frac{1}{x}\\ln x}\\right)'\n",
    "=\n",
    "e^{\\frac{1}{x}\\ln x} \\cdot \\left(-\\frac{1}{x^2}\\cdot \\ln x + \\frac{1}{x} \\cdot \\frac{1}{x} \\right)\n",
    "=\n",
    "x^{\\frac{1}{x}}\\left(-\\frac{\\ln x}{x^2} + \\frac{1}{x^2} \\right)=\n",
    "\\sqrt[x]{x}\\left(\\frac{1}{x^2}(1 - \\ln x) \\right)$"
   ]
  },
  {
   "cell_type": "markdown",
   "metadata": {},
   "source": [
    "7. $y=\\frac{(2-x^2)^3 \\cdot (x-1)^2}{(2x^3-3x)\\cdot e^x}$"
   ]
  },
  {
   "cell_type": "markdown",
   "metadata": {},
   "source": [
    "$y'=f(x)\\cdot(\\ln[f(x)])'=\n",
    "\\frac{(2-x^2)^3 \\cdot (x-1)^2}{(2x^3-3x)\\cdot e^x}\\cdot\n",
    "\\left( \\frac{-6x}{(2-x^2)} + \\frac{2}{(x-1)} - \\frac{6x^2-3}{(2x^3-3x)} - e^x \\right)$"
   ]
  },
  {
   "cell_type": "markdown",
   "metadata": {},
   "source": [
    "#### Найти производную $y_x'$:\n",
    "\n",
    "8. $\\begin{equation*}\n",
    " \\begin{cases}\n",
    "   x=\\frac{t^2}{t-1} \n",
    "   \\\\\n",
    "   y=\\frac{t}{t^2-1}\n",
    " \\end{cases}\n",
    "\\end{equation*}$"
   ]
  },
  {
   "cell_type": "markdown",
   "metadata": {},
   "source": [
    "$y'_x = \\frac{y_t'}{x_t'}$\n",
    "\n",
    "\n",
    "$\\begin{equation*}\n",
    " \\begin{cases}\n",
    "   x=\\frac{t^2}{t-1} \n",
    "   \\\\\n",
    "   y=\\frac{t}{t^2-1}\n",
    " \\end{cases}\n",
    "\\end{equation*}  \n",
    "\\Rightarrow\n",
    "$ \n",
    "$\\begin{equation*}\n",
    " \\begin{cases}\n",
    "   x'=\\frac{2t(t-1)-t^2}{(t-1)^2}=\\frac{t^2-2t}{(t-1)^2} \n",
    "   \\\\\n",
    "   y'=\\frac{1(t^2-1)-t(2t)}{(t^2-1)^2}=-\\frac{t^2-1}{(t^2-1)^2}=-\\frac{1}{t^2-1}\n",
    " \\end{cases}\n",
    "\\end{equation*}\n",
    "\\Rightarrow\n",
    "$\n",
    "$y_x'=\\frac{\\frac{-1}{t^2-1}}{\\frac{t^2-2t}{(t-1)^2}}\n",
    "=-\\frac{(t-1)^2}{(t^2-2t)(t^2-1)}$"
   ]
  },
  {
   "cell_type": "markdown",
   "metadata": {},
   "source": [
    "9. $ \\arctan \\frac{y}{x}=\\ln\\sqrt{x^2+y^2}$"
   ]
  },
  {
   "cell_type": "markdown",
   "metadata": {},
   "source": [
    "$\\arctan \\frac{y}{x} - \\ln{\\sqrt{x^2+y^2}}=0$\n",
    "\n",
    "$\\frac{1}{1+\\frac{y^2}{x^2}} \\cdot y' \\cdot (-\\frac{1}{x^2}) - \\frac{1}{\\sqrt{x^2+y^2}} \\cdot \\frac{2x+2y}{2\\sqrt{x^2+y^2}} \\cdot y'\n",
    "=0$\n",
    "\n",
    "$y'\\left(-\\frac{\\frac{1}{x^2}}{1+\\frac{y^2}{x^2}} - \\frac{2x+2y}{2(\\sqrt{x^2+y^2})^2} \\right) = 0$\n",
    "\n",
    "$y' = \\left(\\frac{\\frac{1}{x^2}}{1+\\frac{y^2}{x^2}} + \\frac{2x+2y}{2(\\sqrt{x^2+y^2})^2} \\right)$"
   ]
  },
  {
   "cell_type": "markdown",
   "metadata": {},
   "source": [
    "$\\arctan \\frac{y}{x} - \\ln{\\sqrt{x^2+y^2}}=0$\n",
    "\n",
    "$\\frac{1}{1+\\frac{y^2}{x^2}} \\cdot y' \\cdot (-\\frac{1}{x^2}) - \\frac{1}{\\sqrt{x^2+y^2}} \\cdot \\frac{2x+2y}{2\\sqrt{x^2+y^2}} \\cdot y'\n",
    "=0$\n",
    "\n",
    "$y'\\left(-\\frac{\\frac{1}{x^2}}{1+\\frac{y^2}{x^2}} - \\frac{2x+2y}{2(\\sqrt{x^2+y^2})^2} \\right) = 0$\n",
    "\n",
    "$y' = \\left(\\frac{\\frac{1}{x^2}}{1+\\frac{y^2}{x^2}} + \\frac{2x+2y}{2(\\sqrt{x^2+y^2})^2} \\right)$\n",
    "\n",
    "$y' = \\frac{1}{x^2+y^2} + \\frac{x+y}{x^2+y^2} = \\frac{1 + x + y}{x^2 + y^2}$"
   ]
  },
  {
   "cell_type": "markdown",
   "metadata": {},
   "source": [
    "#### Найти производную функции:"
   ]
  },
  {
   "cell_type": "markdown",
   "metadata": {},
   "source": [
    "10. $y=\\ln(x+\\sqrt{x^2+1})$"
   ]
  },
  {
   "cell_type": "markdown",
   "metadata": {},
   "source": [
    "$y' = \\frac{1}{x+\\sqrt{x^2+1}} \\cdot 1 \\cdot \\frac{2x}{2\\sqrt{x^2+1}}\n",
    "=\\frac{x}{(x+\\sqrt{x^2+1})(\\sqrt{x^2+1})}$"
   ]
  },
  {
   "cell_type": "markdown",
   "metadata": {},
   "source": [
    "11. $y=x\\cdot\\ln(x+\\sqrt{x^2+1})-\\sqrt{x^2+1}$"
   ]
  },
  {
   "cell_type": "markdown",
   "metadata": {},
   "source": [
    "$y' = 1 \\cdot \\ln(x+\\sqrt{x^2+1}) + x \\cdot \\frac{x}{(x+\\sqrt{x^2+1})(\\sqrt{x^2+1})} - \\frac{x}{\\sqrt{x^2+1}}\n",
    "=\\ln(x+\\sqrt{x^2+1}) + \\frac{x^2-(x(x+\\sqrt{x^2+1}))}{(x+\\sqrt{x^2+1})(\\sqrt{x^2+1})}\n",
    "=\\ln(x+\\sqrt{x^2+1}) + \\frac{-x\\sqrt{x^2+1}}{(x+\\sqrt{x^2+1})(\\sqrt{x^2+1})}=$\n",
    "\n",
    "$=\\ln(x+\\sqrt{x^2+1}) - \\frac{x}{(x+\\sqrt{x^2+1})}\n",
    "=\\frac{\\ln(x+\\sqrt{x^2+1})(x+\\sqrt{x^2+1})-x}{(x+\\sqrt{x^2+1})}$"
   ]
  },
  {
   "cell_type": "markdown",
   "metadata": {},
   "source": [
    "12. $y=\\arcsin(\\sin x)$"
   ]
  },
  {
   "cell_type": "markdown",
   "metadata": {},
   "source": [
    "$y' = \\frac{\\cos x}{\\sqrt{1-\\sin^2x}}$"
   ]
  },
  {
   "cell_type": "markdown",
   "metadata": {},
   "source": [
    "13. Найти длину x и ширину y прямоугольника при заданном периметре P = 144 см, при которых данный прямоугольник имеет наибольшую площадь S."
   ]
  },
  {
   "cell_type": "markdown",
   "metadata": {},
   "source": [
    "$P = 144 \\to P = 2(a + b) \\to a+b = 72 \\to a = 72-b$\n",
    "\n",
    "$S = ab$\n",
    "\n",
    "$S(a)= b(72-b) = 72b - b^2$\n",
    "\n",
    "$S(a)' = 72 - 2b$\n",
    "\n",
    "$72 - 2b = 0 \\to a = 36$\n",
    "\n",
    "36 - является точкой максимума, соответственно наибольшая площадь будет у квадрата"
   ]
  },
  {
   "cell_type": "code",
   "execution_count": 32,
   "metadata": {},
   "outputs": [
    {
     "name": "stdout",
     "output_type": "stream",
     "text": [
      "1296\n",
      "1295\n",
      "1292\n"
     ]
    }
   ],
   "source": [
    "print(36*36)\n",
    "print(37*35)\n",
    "print(38*34)"
   ]
  }
 ],
 "metadata": {
  "kernelspec": {
   "display_name": "Python 3",
   "language": "python",
   "name": "python3"
  },
  "language_info": {
   "codemirror_mode": {
    "name": "ipython",
    "version": 3
   },
   "file_extension": ".py",
   "mimetype": "text/x-python",
   "name": "python",
   "nbconvert_exporter": "python",
   "pygments_lexer": "ipython3",
   "version": "3.7.3"
  }
 },
 "nbformat": 4,
 "nbformat_minor": 2
}
