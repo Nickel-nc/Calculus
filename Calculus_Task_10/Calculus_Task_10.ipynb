{
 "cells": [
  {
   "cell_type": "markdown",
   "metadata": {},
   "source": [
    "## ВВЕДЕНИЕ В МАТЕМАТИЧЕСКИЙ АНАЛИЗ\n",
    "****************"
   ]
  },
  {
   "cell_type": "code",
   "execution_count": 1,
   "metadata": {},
   "outputs": [],
   "source": [
    "%matplotlib inline\n",
    "import numpy as np\n",
    "from math import sin\n",
    "import matplotlib.pyplot as plt\n",
    "from tqdm import tqdm\n",
    "from math import asin,sin, cos, tan, exp, e, log, sqrt, pi\n",
    "import math"
   ]
  },
  {
   "cell_type": "markdown",
   "metadata": {},
   "source": [
    "### Тема 7 \"Ряды\""
   ]
  },
  {
   "cell_type": "markdown",
   "metadata": {},
   "source": [
    "1. Исследовать ряд на сходимость, используя признак д'Аламбера"
   ]
  },
  {
   "cell_type": "markdown",
   "metadata": {},
   "source": [
    "$\\sum\\limits_{n=1}^{\\infty} \\frac{n^n}{(n!)^2}$"
   ]
  },
  {
   "cell_type": "markdown",
   "metadata": {},
   "source": [
    "$\\lim_{n \\to \\infty} \\frac{(n+1)^{n+1}}{(n+1)!^2} : \\frac{n^n}{(n!)^2} \n",
    "= \\lim_{n \\to \\infty} \\frac{(n+1)^{n}}{(n+1)^2 \\cdot n^n} \n",
    "= \\lim_{n \\to \\infty} \\frac{(\\frac{n+1}{n})^n}{n+1} \n",
    "= \\lim_{n \\to \\infty} \\frac{e}{n+1}=0 < 1$"
   ]
  },
  {
   "cell_type": "markdown",
   "metadata": {},
   "source": [
    "2. Исследовать ряд на сходимость, используя радикальный признак Коши:"
   ]
  },
  {
   "cell_type": "markdown",
   "metadata": {},
   "source": [
    "$\\sum\\limits_{n=1}^{\\infty} \\frac{n}{2^n}$"
   ]
  },
  {
   "cell_type": "markdown",
   "metadata": {},
   "source": [
    "a. $\\lim_{n \\to \\infty} \\sqrt[n]{a_n} = \\lim_{n \\to \\infty} \\sqrt[n]{\\frac{n}{2n^n}}=\\lim_{n \\to \\infty} \\frac{\\sqrt[n]{n}}{2} = \\frac{1}{2} < 1$\n",
    "\n",
    "b. $\\lim_{n \\to \\infty} \\frac{a_{n+1}}{a_n} \n",
    "= \\lim_{n \\to \\infty} \\frac{n+1}{2^{n+1}} : \\frac{n}{2^n}\n",
    "= \\lim_{n \\to \\infty} \\frac{n+1}{2n} = \\frac{1}{2}<1$"
   ]
  },
  {
   "cell_type": "markdown",
   "metadata": {},
   "source": [
    "3. Исследовать ряд на сходимость, используя признак Лейбница:"
   ]
  },
  {
   "cell_type": "markdown",
   "metadata": {},
   "source": [
    "$\\sum\\limits_{n=1}^{\\infty} \\frac{(-1)^n}{n+\\ln n}$"
   ]
  },
  {
   "cell_type": "markdown",
   "metadata": {},
   "source": [
    "$\\begin{equation*} \\begin{cases}\n",
    "   \\lim_{n \\to \\infty} |a_n|=0\n",
    "   \\\\\n",
    "   |a_{n+1}| < |a_n|\n",
    "   \\\\\n",
    "   \\sum\\limits_{n=1}^{\\infty} \\frac{1}{n+\\ln N} \\sim O \\left( \\frac{1}{n^1} \\right)\n",
    " \\end{cases}\n",
    "\\end{equation*}\n",
    "\\Rightarrow$\n",
    "$\\sum\\limits_{n=1}^{\\infty} \\frac{(-1)^n}{+n+\\ln n}$ - сходится условно"
   ]
  },
  {
   "cell_type": "markdown",
   "metadata": {},
   "source": [
    "4. Исследовать ряд на сходимость, используя признак Раабе:"
   ]
  },
  {
   "cell_type": "markdown",
   "metadata": {},
   "source": [
    "$\\sum\\limits_{n=1}^{\\infty} \\frac{3^n}{n^n}$"
   ]
  },
  {
   "cell_type": "markdown",
   "metadata": {},
   "source": [
    "$\\lim_{n \\to \\infty} \\left(\\frac{a_n}{a_{n+1}}-1\\right) \n",
    "= \\lim_{n \\to \\infty} n \\left(\\frac{3^n}{2^n} : \\frac{3^{n+1}}{2^{n+1}}-1 \\right) = \\lim_{n\\to\\infty} n\\left(-\\frac{1}{3}\\right)\n",
    "= -\\infty < 1$"
   ]
  },
  {
   "cell_type": "markdown",
   "metadata": {},
   "source": [
    "5. Разложить функцию по Тейлору в единице:"
   ]
  },
  {
   "cell_type": "markdown",
   "metadata": {},
   "source": [
    "$f(x) =\\ln (16x^2)$"
   ]
  },
  {
   "cell_type": "markdown",
   "metadata": {},
   "source": [
    "$f'(x) = \\frac{2}{x}; f'(1) = 2$\n",
    "\n",
    "$f''(x) = \\frac{-2}{x^2}; f''(1) = -2$\n",
    "\n",
    "$f'''(x) = \\frac{4}{x^3}; f'''(1) = 4$\n",
    "\n",
    "$\\ln(16x^2) = \\frac{\\ln(16 \\cdot 1^2)}{0!}(x-1)^0 + \\frac{2}{1!}(x-1) + \\frac{-2}{2!}(x-1)^2 + \\frac{4}{3!}(x-1)^3$"
   ]
  },
  {
   "cell_type": "markdown",
   "metadata": {},
   "source": [
    "6. Дана функция $f(x)=x^2$\n",
    "\n",
    "a. Разложить функцию в ряд Фурье по косинусам на отрезке $x \\in [-2;0].$ "
   ]
  },
  {
   "cell_type": "markdown",
   "metadata": {},
   "source": [
    "$f(x)=x^2$ (на отрезке $[-\\pi;\\pi]$)\n",
    "\n",
    "$a_0 = \\frac{1}{2\\pi} \\int\\limits_{-\\pi}^{\\pi} f(x)dx = \\frac{1}{2\\pi}\\int\\limits_{-\\pi}^{\\pi} x^2dx= \\frac{1}{2\\pi} \\left(\\frac{x^3}{3}\\right)\\bigg|_{-\\pi}^{\\pi}\n",
    "= \\frac{\\pi^3}{6\\pi}-\\frac{(-\\pi)^3}{6\\pi}=\\frac{2\\pi}{6\\pi}=\\frac{\\pi^2}{3}$"
   ]
  },
  {
   "cell_type": "markdown",
   "metadata": {},
   "source": [
    "$a_n = \\frac{1}{\\pi}\\int\\limits_{-\\pi}^{\\pi} f(x)\\cos nx dx = \\frac{1}{\\pi}\\int\\limits_{-\\pi}^{\\pi}x^2 \\cos nx dx = \\left(\\frac{1}{\\pi n}x^2 \\sin nx \\right) \\bigg|_{-\\pi}^{\\pi} \\frac{2}{\\pi n} \\int\\limits_{-\\pi}^{\\pi} x \\sin nx dx= $\n",
    "\n",
    "$=\\frac{2}{\\pi n}\\int\\limits_{-\\pi}^{\\pi} x\\sin nx dx = \\left(\\frac{2}{\\pi n^2} x \\cos nx \\right) \\bigg|_{-\\pi}^{\\pi} \\frac{2}{\\pi n^2} \\int\\limits_{-\\pi}^{\\pi} \\cos nx dx = $\n",
    "\n",
    "$= \\frac{2}{\\pi n^2} \\pi \\cos n\\pi - \\frac{2}{\\pi n^2} \\cos n\\pi = 4\\frac{(-1)^n}{n^2}$"
   ]
  },
  {
   "cell_type": "markdown",
   "metadata": {},
   "source": [
    "$b_n = \\frac{1}{\\pi} \\int\\limits_{-\\pi}^{\\pi} f(x)\\sin nx dx = 0$"
   ]
  },
  {
   "cell_type": "markdown",
   "metadata": {},
   "source": [
    "b. Построить график функции и ее разложения."
   ]
  },
  {
   "cell_type": "code",
   "execution_count": 13,
   "metadata": {},
   "outputs": [
    {
     "data": {
      "image/png": "[encoded data removed]",
      "text/plain": [
       "<Figure size 432x288 with 1 Axes>"
      ]
     },
     "metadata": {
      "needs_background": "light"
     },
     "output_type": "display_data"
    }
   ],
   "source": [
    "x = np.linspace(-10,10,100)\n",
    "y1 = x**2\n",
    "sumx = 0\n",
    "for i in range(1, 20):\n",
    "    sumx = sumx + (4*((-1)**(i))/(i**2) * np.cos(i*x))\n",
    "f = (np.pi**2)/3 + sumx\n",
    "plt.plot(x,y1)\n",
    "plt.plot(x,f)\n",
    "# plt.xlim(-5,5)\n",
    "plt.show()"
   ]
  },
  {
   "cell_type": "code",
   "execution_count": 14,
   "metadata": {},
   "outputs": [
    {
     "data": {
      "image/png": "[encoded data removed]",
      "text/plain": [
       "<Figure size 432x288 with 1 Axes>"
      ]
     },
     "metadata": {
      "needs_background": "light"
     },
     "output_type": "display_data"
    }
   ],
   "source": [
    "x = np.linspace(-10,10,100)\n",
    "y1 = x**2\n",
    "sumx = 0\n",
    "for i in range(1, 20):\n",
    "    sumx = sumx + (4*((-1)**(i))/(i**2) * np.cos(i*x))\n",
    "f = (np.pi**2)/3 + sumx\n",
    "plt.plot(x,y1, 'o')\n",
    "plt.plot(x,f)\n",
    "plt.xlim(-2,0)\n",
    "plt.show()"
   ]
  },
  {
   "cell_type": "markdown",
   "metadata": {},
   "source": [
    "### Тема 8 \"Понятие об интеграле\""
   ]
  },
  {
   "cell_type": "markdown",
   "metadata": {},
   "source": [
    "1. Найти неопределенный интеграл:"
   ]
  },
  {
   "cell_type": "markdown",
   "metadata": {},
   "source": [
    "$\\int (2x^2-2x-1+\\sin x - \\cos x + \\ln x + e^x)dx =$\n",
    "\n",
    "$=\\int 2x^2dx + \\int -2xdx + \\int -1dx + \\int\\sin xdx + \\int -\\cos xdx + \\int \\ln xdx + \\int e^xdx = $\n",
    "\n",
    "$= 2\\frac{x^3}{3}-x^2-x-cosx-sinx+(x\\cdot\\ln x-x) + e^x +C$"
   ]
  },
  {
   "cell_type": "markdown",
   "metadata": {},
   "source": [
    "2. Найти неопределенный интеграл:"
   ]
  },
  {
   "cell_type": "markdown",
   "metadata": {},
   "source": [
    "$\\int (2x+6xz^2-5x^2y-3\\ln z)dx =$\n",
    "\n",
    "$= \\int 2xdx + \\int 6xz^2 dx + \\int - 5x^2y dx + \\int -3 \\ln(z) dx\n",
    "= x^2+3x^2z^2-\\frac{5}{3}x^3y-3x \\ln(z)+C$"
   ]
  },
  {
   "cell_type": "markdown",
   "metadata": {},
   "source": [
    "3. Вычислить определенный интеграл:"
   ]
  },
  {
   "cell_type": "markdown",
   "metadata": {},
   "source": [
    "$\\int\\limits_0^{\\pi} 3x^2 \\sin(2x)dx = U(x)V(x)-\\int V(x) dU(x) =$\n",
    "\n",
    "$= -3x^2 \\frac{\\cos(2x)}{2} + \\int 3x \\cos(2x)dx\n",
    "= -3x^2 \\frac{\\cos(2x)}{2} + 3x \\frac{\\sin(2x)}{2} + 3 \\frac{\\cos(2x)}{4} + C$\n",
    "\n",
    "$-3x^2 \\frac{\\cos(2x)}{2} + 3x \\frac{\\sin(2x)}{2} + 3 \\frac{\\cos(2x)}{4}\\bigg|_0^{\\pi}\n",
    "= f(\\pi) - f(0) = -3\\frac{\\pi^2}{2}+\\frac{3}{4} - \\frac{3}{4} = - 3 \\frac{\\pi^2}{2}$"
   ]
  },
  {
   "cell_type": "markdown",
   "metadata": {},
   "source": [
    "4. Найти неопределенный интеграл:"
   ]
  },
  {
   "cell_type": "markdown",
   "metadata": {},
   "source": [
    "$\\int \\frac{1}{\\sqrt{x+1}}dx = 2\\sqrt{x+1}+C$"
   ]
  },
  {
   "cell_type": "code",
   "execution_count": null,
   "metadata": {},
   "outputs": [],
   "source": []
  }
 ],
 "metadata": {
  "kernelspec": {
   "display_name": "Python 3",
   "language": "python",
   "name": "python3"
  },
  "language_info": {
   "codemirror_mode": {
    "name": "ipython",
    "version": 3
   },
   "file_extension": ".py",
   "mimetype": "text/x-python",
   "name": "python",
   "nbconvert_exporter": "python",
   "pygments_lexer": "ipython3",
   "version": "3.7.3"
  }
 },
 "nbformat": 4,
 "nbformat_minor": 2
}
