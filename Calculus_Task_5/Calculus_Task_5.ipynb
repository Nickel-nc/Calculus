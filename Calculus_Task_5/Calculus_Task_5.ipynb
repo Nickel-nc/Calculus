{
 "cells": [
  {
   "cell_type": "markdown",
   "metadata": {},
   "source": [
    "# ВВЕДЕНИЕ В МАТЕМАТИЧЕСКИЙ АНАЛИЗ\n",
    "****************"
   ]
  },
  {
   "cell_type": "code",
   "execution_count": 99,
   "metadata": {},
   "outputs": [],
   "source": [
    "%matplotlib inline\n",
    "import numpy as np\n",
    "from math import sin\n",
    "import matplotlib.pyplot as plt\n",
    "from tqdm import tqdm\n",
    "from math import sin, cos, tan, exp, e, log, sqrt, pi"
   ]
  },
  {
   "cell_type": "markdown",
   "metadata": {},
   "source": [
    "### Тема “Предел функции”"
   ]
  },
  {
   "cell_type": "markdown",
   "metadata": {},
   "source": [
    "#### Найти предел функции:"
   ]
  },
  {
   "cell_type": "markdown",
   "metadata": {},
   "source": [
    "1.  $ \\lim_{x \\to \\infty} \\frac{(23-2x^2)(3x^2+17)^2}{4x^6+x-1} = -\\frac{18}{4} = -4.5 $"
   ]
  },
  {
   "cell_type": "markdown",
   "metadata": {},
   "source": [
    "2.  $ \\lim_{x \\to \\infty} \\frac{(97-2x)^3}{2x(3x^2+15)+8x} = -\\frac{8}{6} = -\\frac{4}{3} $"
   ]
  },
  {
   "cell_type": "markdown",
   "metadata": {},
   "source": [
    "3.  $ \\lim_{x \\to \\infty} \\frac{2x^3+13x(x+18)}{(27-x)(2x+19)^2} = -\\frac{2}{4} = -\\frac{1}{2} $"
   ]
  },
  {
   "cell_type": "markdown",
   "metadata": {},
   "source": [
    "4.  $ \\lim_{x \\to 6} \\frac{x^2-36}{x^2-x-30} = \\left (\\frac{0}{0} \\right) = \\lim_{x \\to 6} \\frac{(x-6)(x+6)}{(x-6)(x+5)} = \\frac{12}{11}$"
   ]
  },
  {
   "cell_type": "markdown",
   "metadata": {},
   "source": [
    "5.  $ \\lim_{x \\to 7} \\frac{x^2-49}{x^2-13x+42} = \\left (\\frac{0}{0} \\right) = \\lim_{x \\to 7} \\frac{(x-7)(x+7)}{(x-7)(x-6)} = 14 $"
   ]
  },
  {
   "cell_type": "markdown",
   "metadata": {},
   "source": [
    "7.  $ \\lim_{x \\to 0} \\frac{3x \\tan 4x}{1- \\cos 4x} =\\lim_{x \\to 0} \\frac{3x \\tan 4x}{2 \\sin^2 \\frac{4x}{2}}= \\frac{3 \\cdot 4}{2 \\cdot \\left(\\frac{4}{2} \\right)^2} = \\frac{3}{2} $"
   ]
  },
  {
   "cell_type": "markdown",
   "metadata": {},
   "source": [
    "! 8.  $ \\lim_{x \\to 0} \\frac{\\sqrt{2}x^2 \\sin 4x}{(1-\\cos 2x)^{\\frac{3}{2}}} = \\lim_{x \\to 0} \\frac{\\sqrt{2}x^2\\sin 4x}{(2\\sin^2 \\frac{2x}{2})^{\\frac{3}{2}}} = \\frac{\\sqrt{2} \\cdot 4}{\\sqrt{\\left(2 \\cdot \\frac{2}{2} \\right)^3}} = \\frac{\\sqrt{2} \\cdot 4}{\\sqrt{2 \\cdot 4}} = 2$"
   ]
  },
  {
   "cell_type": "code",
   "execution_count": 164,
   "metadata": {},
   "outputs": [
    {
     "data": {
      "text/plain": [
       "2.0024002314169533"
      ]
     },
     "execution_count": 164,
     "metadata": {},
     "output_type": "execute_result"
    }
   ],
   "source": [
    "x = 0.0000001\n",
    "(sqrt(2)*x**2*sin(4*x))/((1-cos(2*x))**(3/2))"
   ]
  },
  {
   "cell_type": "markdown",
   "metadata": {},
   "source": [
    "9.  $ \\lim_{x \\to \\infty} \\left( \\frac{4x}{4x + 3} \\right) ^{\\frac{5x^2}{7x-1}} = (1^\\infty) =\\lim_{x \\to \\infty} \\left(1+\\frac{-3}{4x+3} \\right)^{\\frac{5x^2}{7x-1}} =\\lim_{x \\to \\infty} e^{\\frac{-3}{4x+3}\\cdot \\frac{5x^2}{7x-1}} = e^{\\frac{-3 \\cdot5}{4\\cdot 7}} = e^{\\frac{-15}{28}} $"
   ]
  },
  {
   "cell_type": "code",
   "execution_count": 180,
   "metadata": {
    "scrolled": false
   },
   "outputs": [
    {
     "name": "stdout",
     "output_type": "stream",
     "text": [
      "0.5831847873671162\n",
      "0.5852511043074123\n"
     ]
    }
   ],
   "source": [
    "x = 100000000000000\n",
    "print(((4*x)/(4*x+3))**((5*x**2)/(7*x-1)))\n",
    "print(e**(-15/28))"
   ]
  },
  {
   "cell_type": "markdown",
   "metadata": {},
   "source": [
    "! 10.  $ \\lim_{x \\to \\infty} \\frac{\\ln (x^2-x +1)}{\\ln (x^{10}+x+1)} = \\lim_{x \\to \\infty} \\frac{\\frac{\\ln(1 + (x^2-x))}{x^2-x}\\cdot x^2-x}{\\frac{\\ln(1+(x^{10}+x))}{x^{10}+x}\\cdot x^{10}+x}= \\lim_{x \\to \\infty} \\frac{1\\cdot x^2-1}{1\\cdot x^{10}+x}=\\frac{2}{10}=\\frac{1}{5}$"
   ]
  },
  {
   "cell_type": "code",
   "execution_count": 179,
   "metadata": {},
   "outputs": [
    {
     "data": {
      "text/plain": [
       "0.2"
      ]
     },
     "execution_count": 179,
     "metadata": {},
     "output_type": "execute_result"
    }
   ],
   "source": [
    "x = 1000000000000000\n",
    "(log(x**2-x+1))/(log(x**10+x+1))"
   ]
  },
  {
   "cell_type": "markdown",
   "metadata": {},
   "source": [
    "11.  $ \\lim_{x \\to 0} \\frac{5^x-1}{x} = \\left (\\frac{0}{0} \\right) = \\ln5$"
   ]
  },
  {
   "cell_type": "code",
   "execution_count": 145,
   "metadata": {},
   "outputs": [
    {
     "data": {
      "text/plain": [
       "1.6094379124341003"
      ]
     },
     "execution_count": 145,
     "metadata": {},
     "output_type": "execute_result"
    }
   ],
   "source": [
    "log(5,e)"
   ]
  },
  {
   "cell_type": "markdown",
   "metadata": {},
   "source": [
    "--------------------------------------"
   ]
  },
  {
   "cell_type": "markdown",
   "metadata": {},
   "source": [
    "! 6.  $ \\lim_{x \\to 7} \\frac{\\sqrt{x+2}-\\sqrt[3]{x+20}}{\\sqrt[4]{x+9}-2} = \\left (\\frac{0}{0} \\right) = \\dots = 4$"
   ]
  },
  {
   "cell_type": "markdown",
   "metadata": {},
   "source": [
    "$ a_1 = \\sqrt{x+2}, b_1 = \\sqrt[3]{x+20}$\n",
    "\n",
    "$ a_2 = \\sqrt{(x+2)^3}, b_2=x+20$\n",
    "\n",
    "$c = \\sqrt[4]{x+9}, d = 2$"
   ]
  },
  {
   "cell_type": "markdown",
   "metadata": {},
   "source": [
    "-  $\n",
    "\\lim_{x \\to 7} \\frac{\\sqrt{x+2}-\\sqrt[3]{x+20}}{\\sqrt[4]{x+9}-2} \n",
    "= \\frac{\\left(\\sqrt{x+2} - \\sqrt[3]{x+20}\\right)\\left(\\sqrt{(x+2)^2}+\\sqrt{x+2} \\cdot \\sqrt[3]{x+20} + \\sqrt[3]{(x+20)^2}\\right)}\n",
    "{\\left(\\sqrt[4]{x+9}-2\\right) \\left(\\sqrt[4]{(x+9)^3} + \\sqrt[4]{(x+9)^2}\\cdot 2 + \\sqrt[4]{x+9}\\cdot 2^2 + 2^3 \\right)}\n",
    "\\cdot\n",
    "\\frac{\\left(\\sqrt[4]{x+9}-2\\right) \\left(\\sqrt[4]{(x+9)^3} + \\sqrt[4]{(x+9)^2}\\cdot 2 + \\sqrt[4]{x+9}\\cdot 2^2 + 2^3 \\right)}{\\left(\\sqrt{x+2} - \\sqrt[3]{x+20}\\right)\\left(\\sqrt{(x+2)^2}+\\sqrt{x+2} \\cdot \\sqrt[3]{x+20} + \\sqrt[3]{(x+20)^2}\\right)}  =\n",
    "$\n",
    "\n",
    "$\n",
    "= \\frac{(x+2)^{\\frac{3}{2}} - x+20}{x+9-16}\n",
    "\\cdot\n",
    "\\frac{\\left(\\sqrt[4]{x+9}-2\\right) \\left(\\sqrt[4]{(x+9)^3} + \\sqrt[4]{(x+9)^2}\\cdot 2 + \\sqrt[4]{x+9}\\cdot 2^2 + 2^3 \\right)}{\\left(\\sqrt{x+2} - \\sqrt[3]{x+20}\\right)\\left(\\sqrt{(x+2)^2}+\\sqrt{x+2} \\cdot \\sqrt[3]{x+20} + \\sqrt[3]{(x+20)^2}\\right)} =\n",
    "$\n",
    "\n",
    "$\n",
    "= \\frac{(x^3+8) - x^2+400}{x+9-16}\n",
    "\\cdot\n",
    "\\frac{\\left(\\sqrt[4]{x+9}-2\\right) \\left(\\sqrt[4]{(x+9)^3} + \\sqrt[4]{(x+9)^2}\\cdot 2 + \\sqrt[4]{x+9}\\cdot 2^2 + 2^3 \\right)}{\\left(\\sqrt{x+2} - \\sqrt[3]{x+20}\\right)\\left(\\sqrt{(x+2)^2}+\\sqrt{x+2} \\cdot \\sqrt[3]{x+20} + \\sqrt[3]{(x+20)^2}\\right)\n",
    "\\cdot\n",
    "\\left(\\sqrt{(x+2)^3}- x+20\\right)\\left(\\sqrt{(x+2)^3} + x+20\\right)} = \\cdots\n",
    "$"
   ]
  },
  {
   "cell_type": "code",
   "execution_count": 193,
   "metadata": {},
   "outputs": [
    {
     "data": {
      "text/plain": [
       "4.0"
      ]
     },
     "execution_count": 193,
     "metadata": {},
     "output_type": "execute_result"
    }
   ],
   "source": [
    "x = 6.9999999999999\n",
    "((x+2)**(1/2)-(x+20)**(1/3))/((x+9)**(1/4)-2)"
   ]
  },
  {
   "cell_type": "code",
   "execution_count": null,
   "metadata": {},
   "outputs": [],
   "source": []
  }
 ],
 "metadata": {
  "kernelspec": {
   "display_name": "Python 3",
   "language": "python",
   "name": "python3"
  },
  "language_info": {
   "codemirror_mode": {
    "name": "ipython",
    "version": 3
   },
   "file_extension": ".py",
   "mimetype": "text/x-python",
   "name": "python",
   "nbconvert_exporter": "python",
   "pygments_lexer": "ipython3",
   "version": "3.7.3"
  }
 },
 "nbformat": 4,
 "nbformat_minor": 2
}
