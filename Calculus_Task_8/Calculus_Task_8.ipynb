{
 "cells": [
  {
   "cell_type": "markdown",
   "metadata": {},
   "source": [
    "## ВВЕДЕНИЕ В МАТЕМАТИЧЕСКИЙ АНАЛИЗ\n",
    "****************"
   ]
  },
  {
   "cell_type": "code",
   "execution_count": 96,
   "metadata": {},
   "outputs": [],
   "source": [
    "%matplotlib inline\n",
    "import numpy as np\n",
    "from math import sin\n",
    "import matplotlib.pyplot as plt\n",
    "from tqdm import tqdm\n",
    "from math import asin,sin, cos, tan, exp, e, log, sqrt, pi\n",
    "import math"
   ]
  },
  {
   "cell_type": "markdown",
   "metadata": {},
   "source": [
    "### Тема “Производные функций нескольких переменных”"
   ]
  },
  {
   "cell_type": "markdown",
   "metadata": {},
   "source": [
    "#### Найти частные производные первого и второго порядка. Убедиться в равенстве смешанных производных"
   ]
  },
  {
   "cell_type": "markdown",
   "metadata": {},
   "source": [
    "1. $U = x^3+3xy^2+z^2-39x-36y+2z+26$"
   ]
  },
  {
   "cell_type": "markdown",
   "metadata": {},
   "source": [
    "$U_x' = 3x^2+3y^2-39$\n",
    "\n",
    "$U_y' = 6xy - 36$\n",
    "\n",
    "$U_z' = 2z + 2$\n",
    "\n",
    "$U_{xx}'' = 6x$\n",
    "\n",
    "$U_{yy}'' = 6x$\n",
    "\n",
    "$U_{zz}'' = 2$\n",
    "\n",
    "$U_{xy}'' = 6y$\n",
    "\n",
    "$U_{yx}'' = 6y$\n",
    "\n",
    "$U_{xz}'' = 0$\n",
    "\n",
    "$U_{zx}'' = 0$\n",
    "\n",
    "$U_{yz}'' = 0$\n",
    "\n",
    "$U_{zy}'' = 0$"
   ]
  },
  {
   "cell_type": "code",
   "execution_count": null,
   "metadata": {},
   "outputs": [],
   "source": []
  },
  {
   "cell_type": "markdown",
   "metadata": {},
   "source": [
    "2. $U=\\frac{256}{x}+\\frac{x^2}{y}+\\frac{y^2}{z}+z^2$"
   ]
  },
  {
   "cell_type": "markdown",
   "metadata": {},
   "source": [
    "$U_x' = -\\frac{256}{x^2} + \\frac{2x}{y}$\n",
    "\n",
    "$U_y' = -\\frac{x^2}{y^2} + \\frac{2y}{z}$\n",
    "\n",
    "$U_z' = -\\frac{y^2}{z^2}+2z$\n",
    "\n",
    "$U_{xx}'' = \\frac{512}{x^3} + \\frac{2}{y}$\n",
    "\n",
    "$U_{yy}'' = \\frac{2x^2}{y^3}+\\frac{2}{z}$\n",
    "\n",
    "$U_{zz}'' = \\frac{2y^2}{z^3}+2$\n",
    "\n",
    "$U_{xy}'' = -\\frac{2x}{y^2}$\n",
    "\n",
    "$U_{yx}'' = -\\frac{2x}{y^2}$\n",
    "\n",
    "$U_{xz}'' = 0$\n",
    "\n",
    "$U_{zx}'' = 0$\n",
    "\n",
    "$U_{yz}'' = -\\frac{2y}{z^2}$\n",
    "\n",
    "$U_{zy}'' = -\\frac{2y}{z^2}$"
   ]
  },
  {
   "cell_type": "code",
   "execution_count": null,
   "metadata": {},
   "outputs": [],
   "source": []
  },
  {
   "cell_type": "markdown",
   "metadata": {},
   "source": [
    "3. Найти производную функции $U=x^2+y^2+z^2$ по направлению вектора $\\vec{c}(-9,8,-12)$ в точку $M(8;-12;9)$"
   ]
  },
  {
   "cell_type": "markdown",
   "metadata": {},
   "source": [
    "\n",
    "$|\\vec{c}| = \\sqrt{x_0^2+y_0^2+z_0^2} = \\sqrt{(-9)^2+8^2+(-12)^2} = \\sqrt{81+64+144}=\\sqrt{289}= 17$\n",
    "\n",
    "$|c_0| = \\frac{\\vec{c}}{|\\vec{c}|} = \\left(-\\frac{9}{17}, \\frac{8}{17}, -\\frac{12}{17}  \\right)$\n",
    "\n",
    "grad $U = (U_x',U_y',U_z')$\n",
    "\n",
    "$U_x' = 2x$\n",
    "\n",
    "$U_y' = 2y$\n",
    "\n",
    "$U_z' = 2z$\n",
    "\n",
    "grad $U \\vert_{(8,-12,9)} = (16,-24,18)$\n",
    "\n",
    "$U_{\\vec{c}}' \\vert_{(8,-12,9)}= (\\vec{c}_0 \\cdot $grad $U ) = (-\\frac{9}{17}\\cdot 16 + \\frac{8}{17} \\cdot (-24) -\\frac{12}{17} \\cdot 18) = \\frac{-144-192-216}{17}=-\\frac{552}{17}$"
   ]
  },
  {
   "cell_type": "code",
   "execution_count": null,
   "metadata": {},
   "outputs": [],
   "source": []
  },
  {
   "cell_type": "markdown",
   "metadata": {},
   "source": [
    "4. Найти производную функции $U=e^{x^2+y^2+z^2}$ по направлению вектора $\\vec{d}=(4,-13,-16)$ в точку $L(-16;4;-13)$"
   ]
  },
  {
   "cell_type": "markdown",
   "metadata": {},
   "source": [
    "\n",
    "$|\\vec{d}| = \\sqrt{x_0^2+y_0^2+z_0^2} = \\sqrt{(4)^2+(-13)^2+(-16)^2} =\\sqrt{441}= 21$\n",
    "\n",
    "$|d_0| = \\frac{\\vec{d}}{|\\vec{d}|} = \\left(\\frac{4}{21}, -\\frac{13}{21}, -\\frac{16}{21}  \\right)$\n",
    "\n",
    "grad $U = (U_x',U_y',U_z')$\n",
    "\n",
    "$U_x' = e^{x^2+y^2+z^2} \\cdot 2x$\n",
    "\n",
    "$U_y' = e^{x^2+y^2+z^2} \\cdot 2y$\n",
    "\n",
    "$U_z' = e^{x^2+y^2+z^2} \\cdot 2z$\n",
    "\n",
    "grad $U \\vert_{(-16,4,-13)} = (e^{441} \\cdot (-32), e^{441} \\cdot 8, e^{441} \\cdot (-26))$\n",
    "\n",
    "$U_{\\vec{d}}' \\vert_{(-16,4,-13)} = ( \\vec{d}_0 \\cdot $grad $U ) = \\left(\\frac{4}{21}\\cdot e^{441} \\cdot (-32) - \\frac{13}{21} \\cdot e^{441} \\cdot 8 -\\frac{16}{21} \\cdot e^{441} \\cdot (-26) \\right) = e^{441} (-\\frac{128}{21}-\\frac{104}{21}+\\frac{416}{21}) = e^{441}\\cdot \\frac{184}{21}$"
   ]
  },
  {
   "cell_type": "code",
   "execution_count": null,
   "metadata": {},
   "outputs": [],
   "source": []
  },
  {
   "cell_type": "markdown",
   "metadata": {},
   "source": [
    "5. Найти производную функции $U=\\log_{21}(x^2+y^2+z^2)$ в точку $F(-19,8,-4)$ по самому быстрому направлению"
   ]
  },
  {
   "cell_type": "markdown",
   "metadata": {},
   "source": [
    "\n",
    "grad $U = (U_x',U_y',U_z')$\n",
    "\n",
    "$U_x' = \\frac{2x}{(x^2+y^2+z^2)\\cdot \\ln 21}$\n",
    "\n",
    "$U_y' = \\frac{2y}{(x^2+y^2+z^2)\\cdot \\ln 21}$\n",
    "\n",
    "$U_z' = \\frac{2z}{(x^2+y^2+z^2)\\cdot \\ln 21}$\n",
    "\n",
    "grad $U \\vert_{(-19,8,-4)} = \\left( -\\frac{38}{441 \\cdot \\ln 21}, \\frac{16}{441 \\cdot \\ln 21}, -\\frac{8}{441 \\cdot \\ln 21} \\right)$\n",
    "\n",
    "$|$grad $ U\\vert_{(-19,8,-4)}| = \\sqrt{x_0^2+y_0^2+z_0^2} = \\sqrt{(-19)^2+8^2+(-4)^2} =\\sqrt{441}= 21$\n",
    "\n",
    "$|$grad $U_0| = \\left( -\\frac{38}{441 \\cdot \\ln 21 \\cdot 21}, \\frac{16}{441 \\cdot \\ln 21 \\cdot 21}, -\\frac{8}{441 \\cdot \\ln 21 \\cdot 21} \\right)$\n",
    "\n",
    "$U_{grad U}' \\vert_{(-19,8,-4)} = ( $grad $ U_0 \\cdot $grad $U ) = \\left(-\\frac{38}{441 \\cdot \\ln 21}\\right)^2 \\cdot \\frac{1}{21} \n",
    "+ \\left(\\frac{16}{441 \\cdot \\ln 21}\\right)^2 \\cdot \\frac{1}{21} \n",
    "+ \\left(-\\frac{8}{441 \\cdot \\ln 21}\\right)^2 \\cdot \\frac{1}{21}$"
   ]
  },
  {
   "cell_type": "markdown",
   "metadata": {},
   "source": []
  },
  {
   "cell_type": "markdown",
   "metadata": {},
   "source": [
    "Исследовать на экстремум следующие функции:"
   ]
  },
  {
   "cell_type": "markdown",
   "metadata": {},
   "source": [
    "6. $U=x^2y+\\frac{1}{3}y^3+2x^2+3y^2-1$"
   ]
  },
  {
   "cell_type": "markdown",
   "metadata": {},
   "source": [
    "$\\begin{equation*} \\begin{cases}\n",
    "   U_x'=2xy+4x = 0\n",
    "   \\\\\n",
    "   U_y'=x^2 + y^2 + 6y = 0\n",
    " \\end{cases}\n",
    "\\end{equation*}\n",
    "\\Rightarrow$\n",
    "$\\begin{equation*} \\begin{cases}\n",
    "   y = -2\n",
    "   \\\\\n",
    "   x^2 + 4 - 12 = 0\n",
    " \\end{cases}\n",
    "\\end{equation*}\n",
    "\\Rightarrow$\n",
    "$\\begin{equation*} \\begin{cases}\n",
    "   y = -2\n",
    "   \\\\\n",
    "   x = \\sqrt{8}, -\\sqrt{8}\n",
    " \\end{cases}\n",
    "\\end{equation*}\n",
    "\\Rightarrow$\n",
    "$(0,0); \\quad (-\\sqrt{8},-2); \\quad (\\sqrt{8},-2) \\quad (0, -6)\n",
    "$\n",
    "\n",
    "$(0,0)$\n",
    "\n",
    "$\n",
    "U_{xx}''=2y+4, \\qquad\n",
    "U_{yy}'' = 2y+6, \\qquad\n",
    "U_{xy}'' = U_{yx}'' = 2x\n",
    "$\n",
    "\n",
    "\n",
    "\n",
    "$\n",
    "\\begin{pmatrix}\n",
    "  \\ U_{xx}'' & U_{xy}''\\\\\n",
    "  \\ U_{yx}'' & U_{yy}''\n",
    "\\end{pmatrix}\n",
    "\\Rightarrow$\n",
    "$\n",
    "\\begin{pmatrix}\n",
    "  \\ 4 & 0\\\\\n",
    "  \\ 0 & 6\n",
    "\\end{pmatrix}$\n",
    "\n",
    "$\\Delta_1 = 4 >0, \\qquad \\Delta_2 = 24 - 0 = 24 >0\n",
    "$\n",
    "\n",
    "$(-\\sqrt{8},-2)$\n",
    "\n",
    "$\n",
    "U_{xx}''=2y+4, \\qquad\n",
    "U_{yy}'' = 2y+6, \\qquad\n",
    "U_{xy}'' = U_{yx}'' = 2x\n",
    "$\n",
    "\n",
    "\n",
    "\n",
    "$\n",
    "\\begin{pmatrix}\n",
    "  \\ U_{xx}'' & U_{xy}''\\\\\n",
    "  \\ U_{yx}'' & U_{yy}''\n",
    "\\end{pmatrix}\n",
    "\\Rightarrow$\n",
    "$\n",
    "\\begin{pmatrix}\n",
    "  \\ 0 & -2\\sqrt{8}\\\\\n",
    "  \\ -2\\sqrt{8} & 2\n",
    "\\end{pmatrix}$\n",
    "\n",
    "$\\Delta_1 = 0 = 0, \\qquad \\Delta_2 = 0 - (-2\\sqrt{8})^2 = -16 < 0\n",
    "$\n",
    "\n",
    "$(\\sqrt{8},-2)$\n",
    "\n",
    "$\n",
    "U_{xx}''=2y+4, \\qquad\n",
    "U_{yy}'' = 2y+6, \\qquad\n",
    "U_{xy}'' = U_{yx}'' = 2x\n",
    "$\n",
    "\n",
    "\n",
    "\n",
    "$\n",
    "\\begin{pmatrix}\n",
    "  \\ U_{xx}'' & U_{xy}''\\\\\n",
    "  \\ U_{yx}'' & U_{yy}''\n",
    "\\end{pmatrix}\n",
    "\\Rightarrow$\n",
    "$\n",
    "\\begin{pmatrix}\n",
    "  \\ 0 & 2\\sqrt{8}\\\\\n",
    "  \\ 2\\sqrt{8} & 2\n",
    "\\end{pmatrix}$\n",
    "\n",
    "$\\Delta_1 = 0 = 0, \\qquad \\Delta_2 = 0 - (2\\sqrt{8})^2 = -16 < 0\n",
    "$\n",
    "\n",
    "\n",
    "$(0,-6)$\n",
    "\n",
    "$\n",
    "U_{xx}''=2y+4, \\qquad\n",
    "U_{yy}'' = 2y+6, \\qquad\n",
    "U_{xy}'' = U_{yx}'' = 2x\n",
    "$\n",
    "\n",
    "\n",
    "\n",
    "$\n",
    "\\begin{pmatrix}\n",
    "  \\ U_{xx}'' & U_{xy}''\\\\\n",
    "  \\ U_{yx}'' & U_{yy}''\n",
    "\\end{pmatrix}\n",
    "\\Rightarrow$\n",
    "$\n",
    "\\begin{pmatrix}\n",
    "  \\ -8 & 0\\\\\n",
    "  \\ 0 & -6\n",
    "\\end{pmatrix}$\n",
    "\n",
    "$\\Delta_1 = -8 < 0, \\qquad \\Delta_2 = 48 > 0\n",
    "$"
   ]
  },
  {
   "cell_type": "code",
   "execution_count": 101,
   "metadata": {},
   "outputs": [
    {
     "name": "stdout",
     "output_type": "stream",
     "text": [
      "2.8284271247461894 -2.0\n"
     ]
    }
   ],
   "source": [
    "from scipy.optimize import fsolve, broyden1\n",
    "import math\n",
    "\n",
    "def equations(p):\n",
    "    x, y = p\n",
    "    # Запись системы уравнения вида x+y=2, x-y=0\n",
    "    return (2*x*y+4*x, x**2+y**2+6*y)\n",
    "\n",
    "# Численное решение нелинечной системы уравнений\n",
    "x, y =  fsolve(equations, (2, -2))\n",
    "print (x, y)"
   ]
  },
  {
   "cell_type": "markdown",
   "metadata": {},
   "source": [
    "7. $U=e^{\\frac{-x}{2}}(x^2+y^2)$"
   ]
  },
  {
   "cell_type": "markdown",
   "metadata": {},
   "source": [
    "$\\begin{equation*} \\begin{cases}\n",
    "   U_x'=(e^{-\\frac{x}{2}})'(x^2+y^2)+e^{-\\frac{x}{2}} (x^2+y^2)' = -\\frac{1}{2}\\cdot e^{-\\frac{x}{2}} (x^2+y^2) + e^{-\\frac{x}{2}} \\cdot 2x = -\\frac{1}{2} e^{-\\frac{x}{2}} (x^2+y^2-4x)  \n",
    "   \\\\\n",
    "   U_y'= 0 \\cdot (x^2+y^2) + e^{-\\frac{x}{2}} \\cdot 2y = 2 e^{-\\frac{x}{2}} y\n",
    " \\end{cases}\n",
    "\\end{equation*}\n",
    "\\Rightarrow$\n",
    "$(0,0)$\n",
    "\n",
    "$\n",
    "U_{xx}''=\\frac{1}{4} e^{-\\frac{x}{2}}(x^2-4x+y^2) + (-\\frac{1}{4} e^{-\\frac{x}{2}})(4x-8) = \\frac{1}{4} e^{-\\frac{x}{2}}(x^2-8x+y^2 + 8)$\n",
    "\n",
    "$U_{yy}'' = 2e^{-\\frac{x}{2}}\n",
    "U_{xy}'' = U_{yx}'' = -e^{-\\frac{x}{2}}\\cdot y\n",
    "$\n",
    "\n",
    "$\n",
    "\\begin{pmatrix}\n",
    "  \\ U_{xx}'' & U_{xy}''\\\\\n",
    "  \\ U_{yx}'' & U_{yy}''\n",
    "\\end{pmatrix}\n",
    "\\Rightarrow$\n",
    "$\\begin{pmatrix}\n",
    "  \\ \\frac{1}{4} e^{-\\frac{x}{2}}(x^2-8x+y^2 + 8) & -e^{-\\frac{x}{2}}\\cdot y\\\\\n",
    "  \\ -e^{-\\frac{x}{2}}\\cdot y & 2e^{-\\frac{x}{2}}\n",
    "\\end{pmatrix}$"
   ]
  },
  {
   "cell_type": "code",
   "execution_count": null,
   "metadata": {},
   "outputs": [],
   "source": []
  }
 ],
 "metadata": {
  "kernelspec": {
   "display_name": "Python 3",
   "language": "python",
   "name": "python3"
  },
  "language_info": {
   "codemirror_mode": {
    "name": "ipython",
    "version": 3
   },
   "file_extension": ".py",
   "mimetype": "text/x-python",
   "name": "python",
   "nbconvert_exporter": "python",
   "pygments_lexer": "ipython3",
   "version": "3.7.3"
  }
 },
 "nbformat": 4,
 "nbformat_minor": 2
}
