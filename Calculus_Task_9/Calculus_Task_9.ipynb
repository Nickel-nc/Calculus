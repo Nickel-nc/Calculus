{
 "cells": [
  {
   "cell_type": "markdown",
   "metadata": {},
   "source": [
    "## ВВЕДЕНИЕ В МАТЕМАТИЧЕСКИЙ АНАЛИЗ\n",
    "****************"
   ]
  },
  {
   "cell_type": "code",
   "execution_count": 1,
   "metadata": {},
   "outputs": [],
   "source": [
    "%matplotlib inline\n",
    "import numpy as np\n",
    "from math import sin\n",
    "import matplotlib.pyplot as plt\n",
    "from tqdm import tqdm\n",
    "from math import asin,sin, cos, tan, exp, e, log, sqrt, pi\n",
    "import math"
   ]
  },
  {
   "cell_type": "markdown",
   "metadata": {},
   "source": [
    "### Тема “Производные функций нескольких переменных. 2 часть”"
   ]
  },
  {
   "cell_type": "markdown",
   "metadata": {},
   "source": [
    "#### Исследовать на условный экстремум:"
   ]
  },
  {
   "cell_type": "markdown",
   "metadata": {},
   "source": [
    "1. $U=3-8x+6y$, если $x^2+y^2=36$"
   ]
  },
  {
   "cell_type": "markdown",
   "metadata": {},
   "source": [
    "$L(\\lambda_1,x,y) = 3-8x+6y + \\lambda_1 \\cdot(x^2+y^2-36)$\n",
    "\n",
    "$\\begin{equation*} \\begin{cases}\n",
    "   L_x'= -8 + \\lambda_1 \\cdot 2x = 0\n",
    "   \\\\\n",
    "   L_y' = 6 + \\lambda_1 \\cdot 2y = 0\n",
    "   \\\\\n",
    "   L_{\\lambda_1}' = x^2+y^2-36 = 0\n",
    " \\end{cases}\n",
    "\\end{equation*}\n",
    "\\Rightarrow$\n",
    "$\n",
    "\\begin{equation*} \\begin{cases}\n",
    "   x= \\frac{4}{\\lambda_1} \n",
    "   \\\\\n",
    "   y = -\\frac{3}{\\lambda_1}\n",
    "   \\\\\n",
    "   (\\frac{4}{\\lambda_1})^2 + (-\\frac{3}{\\lambda_1})^2 - 36 = 0\n",
    " \\end{cases}\n",
    "\\end{equation*}\n",
    "\\Rightarrow$\n",
    "$\n",
    "\\begin{equation*} \\begin{cases}\n",
    "   x= \\frac{4}{\\lambda_1} \n",
    "   \\\\\n",
    "   y = -\\frac{3}{\\lambda_1}\n",
    "   \\\\\n",
    "   \\lambda_1 = \\pm \\frac{5}{6}\n",
    " \\end{cases}\n",
    "\\end{equation*}$\n",
    "\n",
    "$\\left( \\frac{24}{5}, -\\frac{18}{5}, \\frac{5}{6} \\right) \\qquad \\left( -\\frac{24}{5}, \\frac{18}{5}, -\\frac{5}{6} \\right)$\n",
    "\n",
    "$L_{xx}'' = 2\\lambda_1 \\qquad L_{yy}'' = 2\\lambda_1 \\qquad L_{\\lambda_1\\lambda_1}'' = 0$\n",
    "\n",
    "$L_{xy}'' = 0 \\qquad L_{x\\lambda_1}'' = 2x \\qquad L_{y\\lambda_1}'' = 2y $\n",
    "\n",
    "$\n",
    "\\begin{pmatrix}\n",
    "  \\ L_{\\lambda_1\\lambda_1}'' & L_{\\lambda_1 x}'' & L_{\\lambda_1 y}''\\\\\n",
    "  \\ L_{x\\lambda_1}'' & L_{xx}'' & L_{xy}'' \\\\\n",
    "  \\ L_{y\\lambda_1}'' & L_{yx}'' & L_{yy}''\n",
    "\\end{pmatrix}\n",
    "\\Rightarrow$\n",
    "$\n",
    "\\begin{pmatrix}\n",
    "  \\ 0 & 2x & 2y \\\\\n",
    "  \\ 2x & 2\\lambda_1 & 0 \\\\\n",
    "  \\ 2y & 0 & 2\\lambda_1\n",
    "\\end{pmatrix}\n",
    "$\n",
    "\n",
    "$\\begin{vmatrix}\n",
    "  \\ 0 & 2x & 2y \\\\\n",
    "  \\ 2x & 2\\lambda_1 & 0 \\\\\n",
    "  \\ 2y & 0 & 2\\lambda_1\n",
    "\\end{vmatrix}=0\\cdot$\n",
    "$\\begin{vmatrix}\n",
    "  \\ 2\\lambda_1 & 0 \\\\\n",
    "  \\ 0 & 2\\lambda_1\n",
    "\\end{vmatrix}-2x\\cdot$\n",
    "$\\begin{vmatrix}\n",
    "  \\ 2x  & 0 \\\\\n",
    "  \\ 2y & 2\\lambda_1\n",
    "\\end{vmatrix}+2y\\cdot$\n",
    "$\\begin{vmatrix}\n",
    "  \\ 2x  & 2\\lambda_1 \\\\\n",
    "  \\ 2y & 0\n",
    "\\end{vmatrix}\n",
    "=$\n",
    "\n",
    "$=0 - 2x\\cdot(2x\\cdot2\\lambda_1-0)+2y\\cdot(0-2y\\cdot 2\\lambda_1)=-8x^2\\lambda_1 -8y^2\\lambda_1=-8\\lambda_1(x^2+y^2)\n",
    "$\n",
    "\n",
    "$\\left( \\frac{24}{5}, -\\frac{18}{5}, \\frac{5}{6} \\right)$ - min $\\qquad \\left( -\\frac{24}{5}, \\frac{18}{5}, -\\frac{5}{6} \\right)$ - max"
   ]
  },
  {
   "cell_type": "markdown",
   "metadata": {},
   "source": [
    "2. $U=2x^2+12xy+32y^2+15$, если $x^2+16y^2=64$"
   ]
  },
  {
   "cell_type": "markdown",
   "metadata": {},
   "source": [
    "$L(\\lambda_1,x,y) = 2x^2+12xy+32y^2+15 + \\lambda_1 \\cdot(x^2+16y^2-64)$\n",
    "\n",
    "$\\begin{equation*} \\begin{cases}\n",
    "   L_x'= 4x + 12y + \\lambda_1 \\cdot 2x = 0\n",
    "   \\\\\n",
    "   L_y' = 12x + 64y + \\lambda_1 \\cdot 32y = 0\n",
    "   \\\\\n",
    "   L_{\\lambda_1}' = x^2+16y^2-64 = 0\n",
    " \\end{cases}\n",
    "\\end{equation*}\n",
    "\\Rightarrow$\n",
    "$\n",
    "\\begin{equation*} \\begin{cases}\n",
    "   x= \\pm 2 \n",
    "   \\\\\n",
    "   y = -\\frac{3}{8+4\\lambda_1}\n",
    "   \\\\\n",
    "   \\lambda_1 = -\\frac{77}{20}\n",
    " \\end{cases}\n",
    "\\end{equation*}\n",
    "\\Rightarrow$\n",
    "$\n",
    "\\begin{equation*} \\begin{cases}\n",
    "   x= \\pm 2 \n",
    "   \\\\\n",
    "   y = -\\frac{15}{37}\n",
    "   \\\\\n",
    "   \\lambda_1 = -\\frac{77}{20}\n",
    " \\end{cases}\n",
    "\\end{equation*}$\n",
    "\n",
    "$\\left(\\frac{-77}{20}, 2, -\\frac{15}{37} \\right) \\qquad \\left(-\\frac{77}{20}, -2, -\\frac{15}{37} \\right)$\n",
    "\n",
    "$L_{xx}'' = 4+ 2\\lambda_1 \\qquad L_{yy}'' = 64+32\\lambda_1 \\qquad L_{\\lambda_1\\lambda_1}'' = 0$\n",
    "\n",
    "$L_{xy}'' = 12 \\qquad L_{x\\lambda_1}'' = 2x \\qquad L_{y\\lambda_1}'' = 32y $\n",
    "\n",
    "$\n",
    "\\begin{pmatrix}\n",
    "  \\ L_{\\lambda_1\\lambda_1}'' & L_{\\lambda_1 x}'' & L_{\\lambda_1 y}''\\\\\n",
    "  \\ L_{x\\lambda_1}'' & L_{xx}'' & L_{xy}'' \\\\\n",
    "  \\ L_{y\\lambda_1}'' & L_{yx}'' & L_{yy}''\n",
    "\\end{pmatrix}\n",
    "\\Rightarrow$\n",
    "$\n",
    "\\begin{pmatrix}\n",
    "  \\ 0 & 2x & 32y \\\\\n",
    "  \\ 2x & 4+2\\lambda_1 & 12 \\\\\n",
    "  \\ 32y & 12 & 64+32\\lambda_1\n",
    "\\end{pmatrix}\n",
    "$\n",
    "\n",
    "$\\begin{vmatrix}\n",
    "  \\ 0 & 2x & 32y \\\\\n",
    "  \\ 2x & 4+2\\lambda_1 & 12 \\\\\n",
    "  \\ 32y & 12 & 64+32\\lambda_1\n",
    "\\end{vmatrix}=$\n",
    "\n",
    "$=0\\cdot$\n",
    "$\\begin{vmatrix}\n",
    "  \\ 4+2\\lambda_1 & 12 \\\\\n",
    "  \\ 12 & 64+32\\lambda_1\n",
    "\\end{vmatrix}-2x\\cdot$\n",
    "$\\begin{vmatrix}\n",
    "  \\ 2x  & 12 \\\\\n",
    "  \\ 32y & 64+32\\lambda_1\n",
    "\\end{vmatrix}+32y\\cdot$\n",
    "$\\begin{vmatrix}\n",
    "  \\ 2x  & 4+2\\lambda_1 \\\\\n",
    "  \\ 32y & 12\n",
    "\\end{vmatrix}\n",
    "=$\n",
    "\n",
    "$=0-2x\\cdot (128x+64x\\lambda_1 - 384y) + 32y\\cdot (24x-128y+64y\\lambda_1) =\n",
    "-256x^2-128x^2\\lambda_1 +  768xy + 768xy - 4096y^2 + 2048y^2\\lambda_1\n",
    "=$\n",
    "\n",
    "$=-128x(2x+x\\lambda_1-12y)-2048y(2y+y\\lambda_1)$\n",
    "\n",
    "$\\left(\\frac{-77}{20}, 2, -\\frac{15}{37} \\right) $ - max $ \\qquad \\left(-\\frac{77}{20}, -2, -\\frac{15}{37} \\right)$ - max"
   ]
  },
  {
   "cell_type": "code",
   "execution_count": null,
   "metadata": {},
   "outputs": [],
   "source": []
  },
  {
   "cell_type": "markdown",
   "metadata": {},
   "source": [
    "3. Численно найти хотя бы один действительный корень системы уравнений."
   ]
  },
  {
   "cell_type": "markdown",
   "metadata": {},
   "source": [
    "$\\begin{equation*} \\begin{cases}\n",
    "   x^2-y^2+3xy^3-2x^2y^2+2x-3y-5 = 0\n",
    "   \\\\\n",
    "   3y^3-2x^2+2x^3y-5x^2y^2+5 = 0\n",
    " \\end{cases}\n",
    "\\end{equation*}$ "
   ]
  },
  {
   "cell_type": "code",
   "execution_count": 3,
   "metadata": {},
   "outputs": [
    {
     "name": "stdout",
     "output_type": "stream",
     "text": [
      "1.375687140388597 -0.17475798540737905 1\n"
     ]
    }
   ],
   "source": [
    "###### import numpy as np\n",
    "from scipy.optimize import fsolve\n",
    "import math\n",
    "\n",
    "def equations(p):\n",
    "    x, y = p\n",
    "    # Запись системы уравнения вида x+y=2, x-y=0\n",
    "    return (x**2-y**2+3*x*y**3-2*x**2*y**2+2*x-3*y-5,\n",
    "           3*y**3-2*x**2+2*x**3*y-5*x**2*y**2+5)\n",
    "\n",
    "# Численное решение нелинечной системы уравнений\n",
    "\n",
    "(x, y), info, ier, mesg =  fsolve(equations, (1, 1), full_output=True)\n",
    "print (x, y, ier)"
   ]
  },
  {
   "cell_type": "markdown",
   "metadata": {},
   "source": [
    "4. Предложить алгоритм, который найдет все 5 действительных корней."
   ]
  },
  {
   "cell_type": "code",
   "execution_count": 13,
   "metadata": {},
   "outputs": [
    {
     "name": "stdout",
     "output_type": "stream",
     "text": [
      "Корень № 1: (1.3756871403833717, -0.1747579854132454)\n",
      "Корень № 2: (1.2733020645285584, 1.6620391224278572)\n",
      "Корень № 3: (-3.653079963570723, -0.2747634192654169)\n",
      "Корень № 4: (2.4943565379108015, 0.7083175224864474)\n",
      "Корень № 5: (2.2177536387339045, 0.61019397971247)\n"
     ]
    }
   ],
   "source": [
    "x_prev = 0\n",
    "y_prev = 0\n",
    "lstx, lsty = [], []\n",
    "n=1\n",
    "for x in np.linspace(-10, 10, 10):\n",
    "    for y in np.linspace(-10,10,10):\n",
    "        (x, y), info, ier, mesg =  fsolve(equations, (x, y), full_output=True)\n",
    "        \n",
    "        if ier == 1 and abs(x_prev - x) > 0.1 and abs(y_prev-y) > 0.1 and round(x,2) not in lstx and round(y,2) not in lsty:\n",
    "            print(f'Корень № {n}: {x, y}')\n",
    "            n+=1\n",
    "        lstx.append(round(x,2))\n",
    "        lsty.append(round(y,2))\n",
    "        x_prev = x\n",
    "        y_prev = y"
   ]
  },
  {
   "cell_type": "code",
   "execution_count": null,
   "metadata": {},
   "outputs": [],
   "source": []
  }
 ],
 "metadata": {
  "kernelspec": {
   "display_name": "Python 3",
   "language": "python",
   "name": "python3"
  },
  "language_info": {
   "codemirror_mode": {
    "name": "ipython",
    "version": 3
   },
   "file_extension": ".py",
   "mimetype": "text/x-python",
   "name": "python",
   "nbconvert_exporter": "python",
   "pygments_lexer": "ipython3",
   "version": "3.7.3"
  }
 },
 "nbformat": 4,
 "nbformat_minor": 2
}
