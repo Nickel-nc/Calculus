{
 "cells": [
  {
   "cell_type": "markdown",
   "metadata": {},
   "source": [
    "# ВВЕДЕНИЕ В МАТЕМАТИЧЕСКИЙ АНАЛИЗ\n",
    "****************"
   ]
  },
  {
   "cell_type": "code",
   "execution_count": 113,
   "metadata": {},
   "outputs": [],
   "source": [
    "import numpy as np\n",
    "from math import sin\n",
    "import matplotlib.pyplot as plt"
   ]
  },
  {
   "cell_type": "markdown",
   "metadata": {},
   "source": [
    "### Математическая логика"
   ]
  },
  {
   "cell_type": "markdown",
   "metadata": {},
   "source": [
    "#### Проверить любым способом, является ли данная логическая формула тавтологией:"
   ]
  },
  {
   "cell_type": "markdown",
   "metadata": {},
   "source": [
    "1. $(A\\vee B) \\to (B \\vee \\bar{A})$\n",
    "\n",
    "2. $A \\to (A\\vee (\\bar{B}\\wedge A)) $"
   ]
  },
  {
   "cell_type": "markdown",
   "metadata": {},
   "source": [
    "`Ответ:` полная тавтология"
   ]
  },
  {
   "cell_type": "code",
   "execution_count": 19,
   "metadata": {
    "scrolled": true
   },
   "outputs": [
    {
     "name": "stdout",
     "output_type": "stream",
     "text": [
      "И И: 1 -  True 2 -  True\n",
      "Л И: 1 -  True 2 -  True\n",
      "И Л: 1 -  True 2 -  True\n",
      "Л Л: 1 -  True 2 -  True\n"
     ]
    }
   ],
   "source": [
    "A, B = True, True\n",
    "print('И И: 1 - ',A or B == B or not A,'2 - ', A == (A or (not B and A)))\n",
    "A, B = False, True\n",
    "print('Л И: 1 - ',A or B == B or not A,'2 - ', A == (A or (not B and A)))\n",
    "A, B = True, False\n",
    "print('И Л: 1 - ',A or B == B or not A,'2 - ', A == (A or (not B and A)))\n",
    "A, B = False, False\n",
    "print('Л Л: 1 - ',A or B == B or not A,'2 - ', A == (A or (not B and A)))"
   ]
  },
  {
   "cell_type": "markdown",
   "metadata": {},
   "source": [
    "#### Сформулируйте словесно высказывания:\n",
    "3. $(A\\vee B) \\to \\bar{C} $\n",
    "\n",
    "4. $C \\to (A\\vee \\bar{B})$\n",
    "\n",
    "<b>A</b>: сегодня светит солнце; <b>B</b>: сегодня сыро; <b>C</b>: я поеду на дачу."
   ]
  },
  {
   "cell_type": "markdown",
   "metadata": {},
   "source": [
    "`Ответ:`\n",
    "3. Если будет солнечно или сыро, то на дачу не еду.\n",
    "4. Если еду надачу, то будет солнечно или не сыро."
   ]
  },
  {
   "cell_type": "markdown",
   "metadata": {},
   "source": [
    "#### Пользуясь правилом построения противоположного высказывания, записать утверждения, противоположные следующим:"
   ]
  },
  {
   "cell_type": "markdown",
   "metadata": {},
   "source": [
    "5. На любом курсе каждого факультета есть студенты, сдающие все экзамены на \"отлично\"\n",
    "6. Каждый студент философского факультета имеет друга, который умеет решать все логические задачи\n",
    "7. В любом самолете на рейсе Вашингтон-Москва присутствует хотя бы один сотрудник силовых органов, в каждой пуговице одежды которого вмонтирован микрофон"
   ]
  },
  {
   "cell_type": "markdown",
   "metadata": {},
   "source": [
    "`Ответ:`\n",
    "5. На некоторых курсах встречается факультет, где все студенты сдают некоторые экзамены на \"отлично\".\n",
    "6. Все студенты философского факультета имеют друга, способного решить как минимум одну логическую задачу.\n",
    "7. В некоторых самолетах на рейсе Вашингтон-Москва все пассажиры - сотрудники силовых органов, у которых как минимум в одной пуговице вмонтирован микрофон."
   ]
  },
  {
   "cell_type": "markdown",
   "metadata": {},
   "source": [
    "### Множества. Предел последовательности"
   ]
  },
  {
   "cell_type": "markdown",
   "metadata": {},
   "source": [
    "#### Представьте в виде несократимой рациональной дроби:\n",
    "8. 0.(216)\n",
    "9. 1.0(01)"
   ]
  },
  {
   "cell_type": "markdown",
   "metadata": {},
   "source": [
    "`Ответ:`\n",
    "\n",
    "8. $a = 0.(216) \\\\\n",
    "1000a = 216 + a \\\\\n",
    "a = \\frac{216}{999} \\\\\n",
    "0.(216) =\\frac{24}{111} $"
   ]
  },
  {
   "cell_type": "code",
   "execution_count": 97,
   "metadata": {},
   "outputs": [
    {
     "data": {
      "text/plain": [
       "0.21621621621621623"
      ]
     },
     "execution_count": 97,
     "metadata": {},
     "output_type": "execute_result"
    }
   ],
   "source": [
    "24/111"
   ]
  },
  {
   "cell_type": "markdown",
   "metadata": {},
   "source": [
    "8. $a = 1.0(01) \\\\\n",
    "1000a = 1001 + 0.0(01) \\\\\n",
    "1000a = 1000 + 1.0(01) \\\\\n",
    "a = \\frac{1000}{999} \\\\\n",
    "1.0(01) =1\\frac{1}{999}$ "
   ]
  },
  {
   "cell_type": "code",
   "execution_count": 124,
   "metadata": {},
   "outputs": [
    {
     "data": {
      "text/plain": [
       "1.001001001001001"
      ]
     },
     "execution_count": 124,
     "metadata": {},
     "output_type": "execute_result"
    }
   ],
   "source": [
    "1000/999"
   ]
  },
  {
   "cell_type": "markdown",
   "metadata": {},
   "source": [
    "#### 10. Представьте 1 в виде суммы трех рациональных дробей с разными знаменателями и числителей равным 1:"
   ]
  },
  {
   "cell_type": "markdown",
   "metadata": {},
   "source": [
    "Решено методом подбора"
   ]
  },
  {
   "cell_type": "markdown",
   "metadata": {},
   "source": [
    "$\\frac{1}{2} + \\frac{1}{3} + \\frac{1}{6} = 1$"
   ]
  },
  {
   "cell_type": "code",
   "execution_count": 81,
   "metadata": {},
   "outputs": [
    {
     "data": {
      "text/plain": [
       "1.0"
      ]
     },
     "execution_count": 81,
     "metadata": {},
     "output_type": "execute_result"
    }
   ],
   "source": [
    "(6/2 + 6/3 + 6/6)/6 # (1/2 + 1/3 + 1/6)/6 = 6/6 = 1"
   ]
  },
  {
   "cell_type": "markdown",
   "metadata": {},
   "source": [
    "#### 11. То же задание, только в виде суммы шести дробей:"
   ]
  },
  {
   "cell_type": "markdown",
   "metadata": {},
   "source": [
    "$\\frac{1}{2} + \\frac{1}{3} + \\frac{1}{9} + \\frac{1}{36} + \\frac{1}{54} + \\frac{1}{108} = 1$"
   ]
  },
  {
   "cell_type": "code",
   "execution_count": 74,
   "metadata": {},
   "outputs": [
    {
     "data": {
      "text/plain": [
       "1.0"
      ]
     },
     "execution_count": 74,
     "metadata": {},
     "output_type": "execute_result"
    }
   ],
   "source": [
    "1/2 + 1/3 + 1/9 + 1/36 + 1/54 + 1/108 # (54 + 36 + 12 + 3 + 2 + 1)/108 = 108/108 = 1"
   ]
  },
  {
   "cell_type": "markdown",
   "metadata": {},
   "source": [
    "#### 12. Найдите значение предела:"
   ]
  },
  {
   "cell_type": "markdown",
   "metadata": {},
   "source": [
    "$ \\lim_{n \\rightarrow \\infty} = \\left(\\frac{1}{1\\cdot 2} + \\frac{1}{2\\cdot 3} + \\frac{1}{3\\cdot 4} + \\cdots + \\frac{1}{(n-1)\\cdot n} \\right)$"
   ]
  },
  {
   "cell_type": "markdown",
   "metadata": {},
   "source": [
    "`Ответ:` 1"
   ]
  },
  {
   "cell_type": "code",
   "execution_count": 88,
   "metadata": {},
   "outputs": [
    {
     "data": {
      "text/plain": [
       "0.75"
      ]
     },
     "execution_count": 88,
     "metadata": {},
     "output_type": "execute_result"
    }
   ],
   "source": [
    "1/2 + 1/6 + 1/12"
   ]
  },
  {
   "cell_type": "code",
   "execution_count": 92,
   "metadata": {},
   "outputs": [
    {
     "name": "stdout",
     "output_type": "stream",
     "text": [
      "0.9998999899990005\n"
     ]
    }
   ],
   "source": [
    "x = 0\n",
    "for i in range(2,10000):\n",
    "    x = x + (1/((i-1)*i))\n",
    "print(x)"
   ]
  },
  {
   "cell_type": "markdown",
   "metadata": {},
   "source": [
    "#### 13. Пользуясь критерием Коши, докажите сходимость последовательности:"
   ]
  },
  {
   "cell_type": "markdown",
   "metadata": {},
   "source": [
    "$ a_n = \\frac{\\sin 1}{2} + \\frac{\\sin 2}{2^2} + \\frac{\\sin 3}{2^3} + \\cdots + \\frac{\\sin n}{2^n}$"
   ]
  },
  {
   "cell_type": "code",
   "execution_count": 94,
   "metadata": {},
   "outputs": [],
   "source": [
    "def calc(n): # Вычисляет предел с заданным k\n",
    "    k = n\n",
    "    res = sin(n)/(2**n)\n",
    "    return res"
   ]
  },
  {
   "cell_type": "code",
   "execution_count": 128,
   "metadata": {},
   "outputs": [
    {
     "name": "stdout",
     "output_type": "stream",
     "text": [
      "0.5928376206979423\n"
     ]
    }
   ],
   "source": [
    "n = 0\n",
    "arr = []\n",
    "for i in range(1, 50):\n",
    "    n = n + calc(i)\n",
    "    arr.append(n)\n",
    "print(n)"
   ]
  },
  {
   "cell_type": "code",
   "execution_count": 153,
   "metadata": {},
   "outputs": [
    {
     "data": {
      "image/png": "[encoded data removed]",
      "text/plain": [
       "<Figure size 432x288 with 1 Axes>"
      ]
     },
     "metadata": {
      "needs_background": "light"
     },
     "output_type": "display_data"
    }
   ],
   "source": [
    "x = np.arange(1,50,1)\n",
    "plt.plot(x,arr, label=r'$a_n= \\sum_{n\\rightarrow \\infty} \\frac{\\sin n}{2^n}$',color='y')\n",
    "plt.grid(True)\n",
    "plt.legend(fontsize=14)\n",
    "plt.show()"
   ]
  },
  {
   "cell_type": "markdown",
   "metadata": {},
   "source": [
    "Какой член последовательности можно взять в качестве предела с точностью $\\varepsilon = 10^{-7}$"
   ]
  },
  {
   "cell_type": "markdown",
   "metadata": {},
   "source": [
    "`Ответ:`\n",
    "22-й член последовательности: \n",
    "$n_{22} - n_{21} = 4.010588136583605e-07$"
   ]
  },
  {
   "cell_type": "code",
   "execution_count": 96,
   "metadata": {},
   "outputs": [
    {
     "name": "stdout",
     "output_type": "stream",
     "text": [
      "Try 1, k = 2, value = 0.19341113569752783, step = 50\n",
      "Try 2, k = 52, value = 7.856621123597842e-17, step = 50\n",
      "Try 3, k = 27, value = 4.237450454791653e-09, step = 25\n",
      "Try 4, k = 14, value = 9.171953249608674e-06, step = 13\n",
      "Try 5, k = 21, value = 4.717039408298489e-07, step = 7\n",
      "Try 6, k = 25, value = 5.003228705869539e-08, step = 4\n",
      "Try 7, k = 23, value = 9.87670166008905e-08, step = 2\n",
      "Try 8, k = 22, value = 4.010588136583605e-07, step = 1\n",
      "k_last_true 22\n",
      "\n",
      "Final count, k = 23, value = 9.87670166008905e-08, step = 1\n",
      "\n",
      "k last = 22, difference = 4.010588136583605e-07\n"
     ]
    }
   ],
   "source": [
    "def lim_calc3(approx, step, tries, eps=10**(-7)): # approx(k) < k final\n",
    "    step_control = step\n",
    "    k = approx\n",
    "    n_cur = calc(k+1)\n",
    "    n_prev = calc(k)\n",
    "    k_last_true = 0\n",
    "    x = 1\n",
    "    for i in range (tries):    \n",
    "            \n",
    "        if step == 3:\n",
    "            step = 2\n",
    "        \n",
    "        if step == 1:\n",
    "            print(f'k_last_true {k_last_true}')\n",
    "            print(f'\\nFinal count, k = {k+1}, value = {abs(n_cur - n_prev)}, step = {step}\\n')\n",
    "            k = k_last_true - 1\n",
    "            n_cur = calc(k+1)\n",
    "            n_prev = calc(k)            \n",
    "            print(f'k last = {k+1}, difference = {abs(n_cur - n_prev)}')\n",
    "            break     \n",
    "        \n",
    "        if abs(n_cur - n_prev) > eps and step == step_control:\n",
    "            print(f'Try {x}, k = {k+1}, value = {abs(n_cur - n_prev)}, step = {step}')\n",
    "            k += step\n",
    "            n_cur = calc(k+1)\n",
    "            n_prev = calc(k)\n",
    "            x += 1\n",
    "\n",
    "        if abs(n_cur - n_prev) < eps:\n",
    "            k_last_true = k\n",
    "            print(f'Try {x}, k = {k+1}, value = {abs(n_cur - n_prev)}, step = {step}')\n",
    "            step = int((step+1 ) / 2)\n",
    "            k = k - step\n",
    "            n_cur = calc(k+1)\n",
    "            n_prev = calc(k)            \n",
    "            x += 1\n",
    "\n",
    "        if abs(n_cur - n_prev) > eps and step != step_control:\n",
    "            print(f'Try {x}, k = {k+1}, value = {abs(n_cur - n_prev)}, step = {step}')\n",
    "            step = int((step+1) / 2)\n",
    "            k = k + step\n",
    "            n_cur = calc(k+1)\n",
    "            n_prev = calc(k)\n",
    "            x += 1\n",
    "        \n",
    "     \n",
    "\n",
    "lim_calc3(1, 50, 100)"
   ]
  },
  {
   "cell_type": "markdown",
   "metadata": {},
   "source": [
    "#### 14. Пользуясь критерием Коши, докажите расходимость последовательности:"
   ]
  },
  {
   "cell_type": "markdown",
   "metadata": {},
   "source": [
    "$ b_n = 1 + \\frac{1}{2} + \\frac{1}{3} + \\cdots + \\frac{1}{n}$"
   ]
  },
  {
   "cell_type": "code",
   "execution_count": 130,
   "metadata": {},
   "outputs": [],
   "source": [
    "def calc2(n): # Вычисляет предел с заданным k\n",
    "    k = n\n",
    "    res = 1/n\n",
    "    return res"
   ]
  },
  {
   "cell_type": "code",
   "execution_count": 138,
   "metadata": {},
   "outputs": [
    {
     "name": "stdout",
     "output_type": "stream",
     "text": [
      "14.39272572286499\n"
     ]
    }
   ],
   "source": [
    "n2 = 0\n",
    "arr2 = []\n",
    "for i in range(1,1000000):\n",
    "    n2 = n2 + calc2(i)\n",
    "    arr2.append(n2)\n",
    "print(n2)"
   ]
  },
  {
   "cell_type": "code",
   "execution_count": null,
   "metadata": {},
   "outputs": [],
   "source": [
    "x2 = np.arange(1,1000000,1)"
   ]
  },
  {
   "cell_type": "code",
   "execution_count": 149,
   "metadata": {},
   "outputs": [
    {
     "data": {
      "image/png": "[encoded data removed]",
      "text/plain": [
       "<Figure size 432x288 with 1 Axes>"
      ]
     },
     "metadata": {
      "needs_background": "light"
     },
     "output_type": "display_data"
    }
   ],
   "source": [
    "plt.plot(x2,arr2, label=r'$b_n= \\sum_{n\\rightarrow \\infty} \\frac{1}{n}$')\n",
    "plt.grid(True)\n",
    "plt.legend(fontsize=14)\n",
    "plt.show()"
   ]
  }
 ],
 "metadata": {
  "kernelspec": {
   "display_name": "Python 3",
   "language": "python",
   "name": "python3"
  },
  "language_info": {
   "codemirror_mode": {
    "name": "ipython",
    "version": 3
   },
   "file_extension": ".py",
   "mimetype": "text/x-python",
   "name": "python",
   "nbconvert_exporter": "python",
   "pygments_lexer": "ipython3",
   "version": "3.7.3"
  }
 },
 "nbformat": 4,
 "nbformat_minor": 2
}
