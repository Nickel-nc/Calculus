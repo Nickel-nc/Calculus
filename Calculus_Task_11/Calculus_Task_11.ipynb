{
 "cells": [
  {
   "cell_type": "markdown",
   "metadata": {},
   "source": [
    "## ВВЕДЕНИЕ В МАТЕМАТИЧЕСКИЙ АНАЛИЗ\n",
    "****************"
   ]
  },
  {
   "cell_type": "code",
   "execution_count": 2,
   "metadata": {},
   "outputs": [],
   "source": [
    "%matplotlib inline\n",
    "import numpy as np\n",
    "from math import sin\n",
    "import matplotlib.pyplot as plt\n",
    "from tqdm import tqdm\n",
    "from math import asin,sin, cos, tan, exp, e, log, sqrt, pi\n",
    "import math"
   ]
  },
  {
   "cell_type": "markdown",
   "metadata": {},
   "source": [
    "### Тема 7 \"Ряды. Интегралы\""
   ]
  },
  {
   "cell_type": "markdown",
   "metadata": {},
   "source": [
    "#### Вычислить интегралы"
   ]
  },
  {
   "cell_type": "markdown",
   "metadata": {},
   "source": [
    "1. $\\int \\frac{2x+3}{(x-2)(x+5)}dx$"
   ]
  },
  {
   "cell_type": "markdown",
   "metadata": {},
   "source": [
    "$\\frac{A}{x-2} + \\frac{B}{x+5} = \\frac{A(x+5)+B(x-2)}{(x-2)(x+5)}$\n",
    "\n",
    "$2+3 = A(x+5)+B(x-2)$\n",
    "\n",
    "$A + B = 2$\n",
    "\n",
    "$5A-2B=3\n",
    "\\Rightarrow\n",
    "A=1;B=1;$\n",
    "\n",
    "$\\frac{2x+3}{(x-2)(x+5)}=\\frac{1}{x-2}+\\frac{1}{x+5}$\n",
    "\n",
    "$\\int \\frac{1}{x-2}dx + \\int{1}{x+5}dx = \\ln(x-2)+\\ln(x+5)$\n"
   ]
  },
  {
   "cell_type": "markdown",
   "metadata": {},
   "source": [
    "2. $\\int e^{2x}\\cos 3xdx$"
   ]
  },
  {
   "cell_type": "markdown",
   "metadata": {},
   "source": [
    "$\\int U(x)dV(x) = U(x)V(x)-\\int V(x)dU(x)$\n",
    "\n",
    "$U = \\cos (3x); dV = e^{2x}dx$\n",
    "\n",
    "$dU = -3\\sin (3x) dx; V = \\frac{e^{2x}}{2}$\n",
    "\n",
    "$\\int e^{2x}\\cdot \\cos(3x)dx = e^{2x}\\cdot \\frac{\\cos(3x)}{2} - \\int - 3e^{2x} \\frac{\\sin(3x)}{2}dx\n",
    "= e^{2x}\\frac{\\cos(3x)}{2} + \\int 3e^{2x}\\frac{\\sin(3x)}{2}dx$\n",
    "\n",
    "$\\int 3e^{2x}\\frac{\\sin(3x)}{2}dx = 3e^{2x}\\frac{\\sin(3x)}{4}-\\int 9e^{2x}\\frac{\\cos(3x)}{4}dx$\n",
    "\n",
    "$\\int e^{2x} \\cdot \\cos(3x) = e^{2x}\\frac{\\cos(3x)}{2}+3e^{2x}\\frac{\\sin(3x)}{4}-\\int 9e^{2x}\\frac{\\cos(3x)}{4}dx$\n",
    "\n",
    "$\\int e^{2x}\\cdot \\cos(3x)+\\int 9e^{2x}\\frac{\\cos(3x)}{4}dx = e^{2x}\\frac{\\cos(3x)}{2}+3e^{2x}\\frac{\\sin(3x)}{4}$\n",
    "\n",
    "$\\int 13e^{2x}\\frac{\\cos(3x)}{4} = 3e^{2x}\\frac{\\sin(3x)}{4}+e^{2x}\\frac{\\cos(3x)}{2}$\n",
    "\n",
    "$\\int e^{2x}\\cdot \\cos(3x) = \\frac{4}{13}\\left(3e^{2x}\\frac{\\sin(3x)}{4}+e^{2x}\\frac{\\cos(3x)}{2}\\right)$"
   ]
  },
  {
   "cell_type": "markdown",
   "metadata": {},
   "source": [
    "3. $\\int\\limits_0^{\\ln 2} xe^{-x}dx$"
   ]
  },
  {
   "cell_type": "markdown",
   "metadata": {},
   "source": [
    "$\\int U(x)dV(x) = U(x)V(x)-\\int V(x)dU(x)$\n",
    "\n",
    "$U=x$ dV = e^{-x}dx$ dU = dx; V = -e^{-x}$\n",
    "\n",
    "$\\int xe^{-x}dx=-xe^{-x}-\\int -e^{-x}dx = -xe^{-x}+\\int e^{-x}dx$\n",
    "\n",
    "$\\int e^{-x}dx = -e^{-x}$\n",
    "\n",
    "$\\int xe^{-x}=-xe^{-x}-e^{-x}+C=-(x+1)e^{-x}+C$\n",
    "\n",
    "$\\int\\limits_0^{\\ln(2)} xe^{-x}dx = (-(x+1)e^{-x})\\bigg|_0^{\\ln(2)}$\n",
    "\n",
    "$f(\\ln(2))= -\\frac{1}{2}-\\frac{\\ln(2)}{2}; f(0)=-1$\n",
    "\n",
    "$-\\frac{1}{2}-\\frac{\\ln(2)}{2}-(-1) = -\\frac{1}{2}\\cdot \\ln(2)+\\frac{1}{2}$"
   ]
  },
  {
   "cell_type": "markdown",
   "metadata": {},
   "source": [
    "4. Разложить функцию $y=e^x$ в ряд Маклорена, а также в ряд Фурье на отрезке $[-\\pi;\\pi]$. Построить график функции и разложения."
   ]
  },
  {
   "cell_type": "markdown",
   "metadata": {},
   "source": [
    "Разложение в ряд Маклорена:\n",
    "\n",
    "$e^x = 1 + \\frac{1}{1!}+ \\frac{1}{2!}x^2+\\frac{1}{3!}x^3 \\cdots $\n",
    "\n",
    "Разложение в ряд Фурье:\n",
    "\n",
    "$a_0 = \\frac{1}{\\pi} \\int\\limits_{-\\pi}^{\\pi} e^x dx = \\frac{1}{\\pi}e^x \\bigg|_{-\\pi}^{\\pi}=\\frac{1}{\\pi}((e^{\\pi}-(e^{-\\pi}))=2\\frac{\\sin\\pi}{\\pi}$\n",
    "\n",
    "$a_n=\\frac{1}{\\pi}\\int\\limits_{-\\pi}^{\\pi}e^x \\cos(\\frac{\\pi nx}{2\\pi})dx = \\frac{1}{\\pi}\\int\\limits_{-\\pi}^{\\pi}e^x \\cos (nx) \\cos (nx) dx = \\frac{1}{\\pi}\\left(ne^x \\frac{\\sin(nx)}{n^2+1}\\right) \\bigg|_{-\\pi}^{\\pi}=\\frac{1}{\\pi}$\n",
    "\n",
    "$a_n=\\frac{(-1)^{2k-1}e^{2\\pi}+1}{\\pi((2k-1)^2+1)e^{\\pi}}$\n",
    "\n",
    "$b_n = \\frac{1}{\\pi}\\left(-n e^{\\pi} \\frac{\\cos(\\pi n)}{n^2+1} + e^{\\pi} \\frac{\\sin(\\pi n)}{n^2+1} - (-n \\frac{\\cos(\\pi n)}{(n^2+1)e^{\\pi}}-\\frac{\\sin(\\pi n)}{(n^2+1)e^{\\pi}})\\right) = \\frac{-(-1)^n\\cdot ne^{2\\pi}+(-1)^n n}{\\pi(n^2+1)e^{\\pi}}$\n",
    "\n",
    "$f(x) = \\frac{\\sin(\\pi)}{\\pi} + \\sum \\frac{(-1)^{2k-1}e^{2\\pi+1}}{\\pi((2k+1)^2+1)e^{\\pi}} \\cos((2k-1)x)+\\frac{-(-1)^n \\cdot e^{2\\pi}+(-1)^nn}{\\pi(n^2+1)e^{\\pi}}\\sin((2k-1)x)$\n"
   ]
  },
  {
   "cell_type": "code",
   "execution_count": 8,
   "metadata": {},
   "outputs": [
    {
     "data": {
      "image/png": "[encoded data removed]",
      "text/plain": [
       "<Figure size 432x288 with 1 Axes>"
      ]
     },
     "metadata": {
      "needs_background": "light"
     },
     "output_type": "display_data"
    }
   ],
   "source": [
    "x = np.linspace(-np.pi,np.pi,100)\n",
    "y1 = np.e**x\n",
    "sumx = 0\n",
    "for i in range(1, 20):\n",
    "    sumx = sumx + (((-1)**(2*i-1)*np.e**(2*np.pi+1))/(np.pi*((2*i+1)**2+1)*np.e**(np.pi))*np.cos((2*i-1)*x)+(-(-1)**i*np.e**(2*np.pi)\n",
    "                                                                                                             +(-1)**i*i)/(np.pi*(i**2+1)*np.e**(np.pi))*(np.sin((2*i-1)*x)))\n",
    "f = (np.sin(np.pi))/(np.pi)+sumx\n",
    "plt.plot(x,y1)\n",
    "plt.plot(x,f)\n",
    "plt.show()"
   ]
  },
  {
   "cell_type": "code",
   "execution_count": null,
   "metadata": {},
   "outputs": [],
   "source": []
  }
 ],
 "metadata": {
  "kernelspec": {
   "display_name": "Python 3",
   "language": "python",
   "name": "python3"
  },
  "language_info": {
   "codemirror_mode": {
    "name": "ipython",
    "version": 3
   },
   "file_extension": ".py",
   "mimetype": "text/x-python",
   "name": "python",
   "nbconvert_exporter": "python",
   "pygments_lexer": "ipython3",
   "version": "3.7.3"
  }
 },
 "nbformat": 4,
 "nbformat_minor": 2
}
